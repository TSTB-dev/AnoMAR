{
 "cells": [
  {
   "cell_type": "code",
   "execution_count": 1,
   "metadata": {},
   "outputs": [],
   "source": [
    "import os\n",
    "import sys\n",
    "sys.path.append('./src') \n",
    "os.environ['CUDA_VISIBLE_DEVICES'] = '1'\n",
    "import yaml\n",
    "\n",
    "from datasets import build_dataset, build_transforms\n",
    "from denoiser import get_denoiser\n",
    "from models import create_vae\n",
    "\n",
    "import matplotlib.pyplot as plt \n",
    "import numpy as np\n",
    "from tqdm import tqdm\n",
    "\n",
    "from backbones import get_backbone\n",
    "from denoiser import get_denoiser, Denoiser"
   ]
  },
  {
   "cell_type": "code",
   "execution_count": 81,
   "metadata": {},
   "outputs": [],
   "source": [
    "dataset = \"mvtec_ad\"\n",
    "category = \"cable\"\n",
    "num_inference_steps = 2\n",
    "device = 'cuda'\n",
    "num_samples = 1\n",
    "start_step = 64"
   ]
  },
  {
   "cell_type": "code",
   "execution_count": 82,
   "metadata": {},
   "outputs": [
    {
     "name": "stdout",
     "output_type": "stream",
     "text": [
      "58\n",
      "92\n"
     ]
    }
   ],
   "source": [
    "from torch.utils.data import DataLoader\n",
    "import torch\n",
    "\n",
    "img_size = 256\n",
    "\n",
    "normal_dataset = build_dataset(\n",
    "    dataset_name=dataset,\n",
    "    data_root = f\"data/{dataset}\",\n",
    "    train=False,\n",
    "    img_size=img_size,\n",
    "    transform_type=\"default\",\n",
    "    category = category,\n",
    "    normal_only = True\n",
    ")\n",
    "anom_dataset = build_dataset(\n",
    "    dataset_name=dataset,\n",
    "    data_root = f\"data/{dataset}\",\n",
    "    train=False,\n",
    "    img_size=img_size,\n",
    "    transform_type=\"default\",\n",
    "    category = category,\n",
    "    anom_only = True\n",
    ")\n",
    "train_dataset = build_dataset(\n",
    "    dataset_name=dataset,\n",
    "    data_root = f\"data/{dataset}\",\n",
    "    train=True,\n",
    "    img_size=img_size,\n",
    "    transform_type=\"default\",\n",
    "    category = category,\n",
    ")\n",
    "print(len(normal_dataset))\n",
    "print(len(anom_dataset))"
   ]
  },
  {
   "cell_type": "code",
   "execution_count": 83,
   "metadata": {},
   "outputs": [
    {
     "name": "stdout",
     "output_type": "stream",
     "text": [
      "<All keys matched successfully>\n"
     ]
    }
   ],
   "source": [
    "# log_dir = f\"./results/ad_unet_vae_ddad/{category}\"\n",
    "# log_dir = f\"./results/exp_unet_feature_visa/{category}\"\n",
    "# log_dir = f\"./results/exp_unet_feature_ad_256/{category}\"\n",
    "\n",
    "# log_dir = f\"./results/exp_unet_feature_ad_es/{category}\"\n",
    "# log_dir = f\"./results/exp_unet_feature_ad_512/{category}\"\n",
    "# log_dir = f\"./results/exp_unet_feature_ad_wrn/{category}\"\n",
    "\n",
    "# log_dir = f\"./results/w2d256ep1000\"\n",
    "log_dir = f\"./results/exp_dit_feature_d4w256_lr/{category}\"\n",
    "config_path = os.path.join(log_dir, \"config.yaml\")\n",
    "ckpt_path = os.path.join(log_dir, \"model_ema_latest.pth\")\n",
    "\n",
    "with open(config_path, 'r') as stream:\n",
    "    try:\n",
    "        config = yaml.safe_load(stream)\n",
    "    except yaml.YAMLError as exc:\n",
    "        print(exc)\n",
    "\n",
    "seed = config['meta']['seed']\n",
    "torch.manual_seed(seed)\n",
    "torch.cuda.manual_seed(seed)\n",
    "np.random.seed(seed) \n",
    "\n",
    "config[\"diffusion\"][\"num_sampling_steps\"] = str(num_inference_steps)\n",
    "img_size = config['data']['img_size']\n",
    "device = device\n",
    "num_samples = num_samples\n",
    "\n",
    "mim_in_sh = (272, 16, 16) # for enet\n",
    "# mim_in_sh = (1792, 16, 16)  # for wrn\n",
    "\n",
    "img_size = config['data']['img_size']\n",
    "model: Denoiser = get_denoiser(**config['diffusion'], input_shape=mim_in_sh)\n",
    "model_ckpt = torch.load(ckpt_path, map_location='cpu', weights_only=True)\n",
    "results = model.load_state_dict(model_ckpt, strict=False)\n",
    "print(results)\n",
    "model.to(device).eval()\n",
    "\n",
    "def init_denoiser(num_inference_steps, device, config, in_sh, ckpt_path):\n",
    "    config[\"diffusion\"][\"num_sampling_steps\"] = str(num_inference_steps)\n",
    "    model: Denoiser = get_denoiser(**config['diffusion'], input_shape=in_sh)\n",
    "    model_ckpt = torch.load(ckpt_path, map_location='cpu', weights_only=True)\n",
    "    results = model.load_state_dict(model_ckpt, strict=False)\n",
    "    model.to(device).eval()\n",
    "    return model"
   ]
  },
  {
   "cell_type": "code",
   "execution_count": 84,
   "metadata": {},
   "outputs": [
    {
     "name": "stdout",
     "output_type": "stream",
     "text": [
      "Using feature space reconstruction with efficientnet-b4 backbone\n"
     ]
    },
    {
     "data": {
      "text/plain": [
       "BackboneWrapper(\n",
       "  (backbone): EfficientNet(\n",
       "    (_conv_stem): Conv2dStaticSamePadding(\n",
       "      3, 48, kernel_size=(3, 3), stride=(2, 2), bias=False\n",
       "      (static_padding): ZeroPad2d((0, 1, 0, 1))\n",
       "    )\n",
       "    (_bn0): BatchNorm2d(48, eps=0.001, momentum=0.010000000000000009, affine=True, track_running_stats=True)\n",
       "    (_blocks): ModuleList(\n",
       "      (0): MBConvBlock(\n",
       "        (_depthwise_conv): Conv2dStaticSamePadding(\n",
       "          48, 48, kernel_size=(3, 3), stride=[1, 1], groups=48, bias=False\n",
       "          (static_padding): ZeroPad2d((1, 1, 1, 1))\n",
       "        )\n",
       "        (_bn1): BatchNorm2d(48, eps=0.001, momentum=0.010000000000000009, affine=True, track_running_stats=True)\n",
       "        (_se_reduce): Conv2dStaticSamePadding(\n",
       "          48, 12, kernel_size=(1, 1), stride=(1, 1)\n",
       "          (static_padding): Identity()\n",
       "        )\n",
       "        (_se_expand): Conv2dStaticSamePadding(\n",
       "          12, 48, kernel_size=(1, 1), stride=(1, 1)\n",
       "          (static_padding): Identity()\n",
       "        )\n",
       "        (_project_conv): Conv2dStaticSamePadding(\n",
       "          48, 24, kernel_size=(1, 1), stride=(1, 1), bias=False\n",
       "          (static_padding): Identity()\n",
       "        )\n",
       "        (_bn2): BatchNorm2d(24, eps=0.001, momentum=0.010000000000000009, affine=True, track_running_stats=True)\n",
       "        (_swish): MemoryEfficientSwish()\n",
       "      )\n",
       "      (1): MBConvBlock(\n",
       "        (_depthwise_conv): Conv2dStaticSamePadding(\n",
       "          24, 24, kernel_size=(3, 3), stride=(1, 1), groups=24, bias=False\n",
       "          (static_padding): ZeroPad2d((1, 1, 1, 1))\n",
       "        )\n",
       "        (_bn1): BatchNorm2d(24, eps=0.001, momentum=0.010000000000000009, affine=True, track_running_stats=True)\n",
       "        (_se_reduce): Conv2dStaticSamePadding(\n",
       "          24, 6, kernel_size=(1, 1), stride=(1, 1)\n",
       "          (static_padding): Identity()\n",
       "        )\n",
       "        (_se_expand): Conv2dStaticSamePadding(\n",
       "          6, 24, kernel_size=(1, 1), stride=(1, 1)\n",
       "          (static_padding): Identity()\n",
       "        )\n",
       "        (_project_conv): Conv2dStaticSamePadding(\n",
       "          24, 24, kernel_size=(1, 1), stride=(1, 1), bias=False\n",
       "          (static_padding): Identity()\n",
       "        )\n",
       "        (_bn2): BatchNorm2d(24, eps=0.001, momentum=0.010000000000000009, affine=True, track_running_stats=True)\n",
       "        (_swish): MemoryEfficientSwish()\n",
       "      )\n",
       "      (2): MBConvBlock(\n",
       "        (_expand_conv): Conv2dStaticSamePadding(\n",
       "          24, 144, kernel_size=(1, 1), stride=(1, 1), bias=False\n",
       "          (static_padding): Identity()\n",
       "        )\n",
       "        (_bn0): BatchNorm2d(144, eps=0.001, momentum=0.010000000000000009, affine=True, track_running_stats=True)\n",
       "        (_depthwise_conv): Conv2dStaticSamePadding(\n",
       "          144, 144, kernel_size=(3, 3), stride=[2, 2], groups=144, bias=False\n",
       "          (static_padding): ZeroPad2d((0, 1, 0, 1))\n",
       "        )\n",
       "        (_bn1): BatchNorm2d(144, eps=0.001, momentum=0.010000000000000009, affine=True, track_running_stats=True)\n",
       "        (_se_reduce): Conv2dStaticSamePadding(\n",
       "          144, 6, kernel_size=(1, 1), stride=(1, 1)\n",
       "          (static_padding): Identity()\n",
       "        )\n",
       "        (_se_expand): Conv2dStaticSamePadding(\n",
       "          6, 144, kernel_size=(1, 1), stride=(1, 1)\n",
       "          (static_padding): Identity()\n",
       "        )\n",
       "        (_project_conv): Conv2dStaticSamePadding(\n",
       "          144, 32, kernel_size=(1, 1), stride=(1, 1), bias=False\n",
       "          (static_padding): Identity()\n",
       "        )\n",
       "        (_bn2): BatchNorm2d(32, eps=0.001, momentum=0.010000000000000009, affine=True, track_running_stats=True)\n",
       "        (_swish): MemoryEfficientSwish()\n",
       "      )\n",
       "      (3-5): 3 x MBConvBlock(\n",
       "        (_expand_conv): Conv2dStaticSamePadding(\n",
       "          32, 192, kernel_size=(1, 1), stride=(1, 1), bias=False\n",
       "          (static_padding): Identity()\n",
       "        )\n",
       "        (_bn0): BatchNorm2d(192, eps=0.001, momentum=0.010000000000000009, affine=True, track_running_stats=True)\n",
       "        (_depthwise_conv): Conv2dStaticSamePadding(\n",
       "          192, 192, kernel_size=(3, 3), stride=(1, 1), groups=192, bias=False\n",
       "          (static_padding): ZeroPad2d((1, 1, 1, 1))\n",
       "        )\n",
       "        (_bn1): BatchNorm2d(192, eps=0.001, momentum=0.010000000000000009, affine=True, track_running_stats=True)\n",
       "        (_se_reduce): Conv2dStaticSamePadding(\n",
       "          192, 8, kernel_size=(1, 1), stride=(1, 1)\n",
       "          (static_padding): Identity()\n",
       "        )\n",
       "        (_se_expand): Conv2dStaticSamePadding(\n",
       "          8, 192, kernel_size=(1, 1), stride=(1, 1)\n",
       "          (static_padding): Identity()\n",
       "        )\n",
       "        (_project_conv): Conv2dStaticSamePadding(\n",
       "          192, 32, kernel_size=(1, 1), stride=(1, 1), bias=False\n",
       "          (static_padding): Identity()\n",
       "        )\n",
       "        (_bn2): BatchNorm2d(32, eps=0.001, momentum=0.010000000000000009, affine=True, track_running_stats=True)\n",
       "        (_swish): MemoryEfficientSwish()\n",
       "      )\n",
       "      (6): MBConvBlock(\n",
       "        (_expand_conv): Conv2dStaticSamePadding(\n",
       "          32, 192, kernel_size=(1, 1), stride=(1, 1), bias=False\n",
       "          (static_padding): Identity()\n",
       "        )\n",
       "        (_bn0): BatchNorm2d(192, eps=0.001, momentum=0.010000000000000009, affine=True, track_running_stats=True)\n",
       "        (_depthwise_conv): Conv2dStaticSamePadding(\n",
       "          192, 192, kernel_size=(5, 5), stride=[2, 2], groups=192, bias=False\n",
       "          (static_padding): ZeroPad2d((2, 2, 2, 2))\n",
       "        )\n",
       "        (_bn1): BatchNorm2d(192, eps=0.001, momentum=0.010000000000000009, affine=True, track_running_stats=True)\n",
       "        (_se_reduce): Conv2dStaticSamePadding(\n",
       "          192, 8, kernel_size=(1, 1), stride=(1, 1)\n",
       "          (static_padding): Identity()\n",
       "        )\n",
       "        (_se_expand): Conv2dStaticSamePadding(\n",
       "          8, 192, kernel_size=(1, 1), stride=(1, 1)\n",
       "          (static_padding): Identity()\n",
       "        )\n",
       "        (_project_conv): Conv2dStaticSamePadding(\n",
       "          192, 56, kernel_size=(1, 1), stride=(1, 1), bias=False\n",
       "          (static_padding): Identity()\n",
       "        )\n",
       "        (_bn2): BatchNorm2d(56, eps=0.001, momentum=0.010000000000000009, affine=True, track_running_stats=True)\n",
       "        (_swish): MemoryEfficientSwish()\n",
       "      )\n",
       "      (7-9): 3 x MBConvBlock(\n",
       "        (_expand_conv): Conv2dStaticSamePadding(\n",
       "          56, 336, kernel_size=(1, 1), stride=(1, 1), bias=False\n",
       "          (static_padding): Identity()\n",
       "        )\n",
       "        (_bn0): BatchNorm2d(336, eps=0.001, momentum=0.010000000000000009, affine=True, track_running_stats=True)\n",
       "        (_depthwise_conv): Conv2dStaticSamePadding(\n",
       "          336, 336, kernel_size=(5, 5), stride=(1, 1), groups=336, bias=False\n",
       "          (static_padding): ZeroPad2d((2, 2, 2, 2))\n",
       "        )\n",
       "        (_bn1): BatchNorm2d(336, eps=0.001, momentum=0.010000000000000009, affine=True, track_running_stats=True)\n",
       "        (_se_reduce): Conv2dStaticSamePadding(\n",
       "          336, 14, kernel_size=(1, 1), stride=(1, 1)\n",
       "          (static_padding): Identity()\n",
       "        )\n",
       "        (_se_expand): Conv2dStaticSamePadding(\n",
       "          14, 336, kernel_size=(1, 1), stride=(1, 1)\n",
       "          (static_padding): Identity()\n",
       "        )\n",
       "        (_project_conv): Conv2dStaticSamePadding(\n",
       "          336, 56, kernel_size=(1, 1), stride=(1, 1), bias=False\n",
       "          (static_padding): Identity()\n",
       "        )\n",
       "        (_bn2): BatchNorm2d(56, eps=0.001, momentum=0.010000000000000009, affine=True, track_running_stats=True)\n",
       "        (_swish): MemoryEfficientSwish()\n",
       "      )\n",
       "      (10): MBConvBlock(\n",
       "        (_expand_conv): Conv2dStaticSamePadding(\n",
       "          56, 336, kernel_size=(1, 1), stride=(1, 1), bias=False\n",
       "          (static_padding): Identity()\n",
       "        )\n",
       "        (_bn0): BatchNorm2d(336, eps=0.001, momentum=0.010000000000000009, affine=True, track_running_stats=True)\n",
       "        (_depthwise_conv): Conv2dStaticSamePadding(\n",
       "          336, 336, kernel_size=(3, 3), stride=[2, 2], groups=336, bias=False\n",
       "          (static_padding): ZeroPad2d((0, 1, 0, 1))\n",
       "        )\n",
       "        (_bn1): BatchNorm2d(336, eps=0.001, momentum=0.010000000000000009, affine=True, track_running_stats=True)\n",
       "        (_se_reduce): Conv2dStaticSamePadding(\n",
       "          336, 14, kernel_size=(1, 1), stride=(1, 1)\n",
       "          (static_padding): Identity()\n",
       "        )\n",
       "        (_se_expand): Conv2dStaticSamePadding(\n",
       "          14, 336, kernel_size=(1, 1), stride=(1, 1)\n",
       "          (static_padding): Identity()\n",
       "        )\n",
       "        (_project_conv): Conv2dStaticSamePadding(\n",
       "          336, 112, kernel_size=(1, 1), stride=(1, 1), bias=False\n",
       "          (static_padding): Identity()\n",
       "        )\n",
       "        (_bn2): BatchNorm2d(112, eps=0.001, momentum=0.010000000000000009, affine=True, track_running_stats=True)\n",
       "        (_swish): MemoryEfficientSwish()\n",
       "      )\n",
       "      (11-15): 5 x MBConvBlock(\n",
       "        (_expand_conv): Conv2dStaticSamePadding(\n",
       "          112, 672, kernel_size=(1, 1), stride=(1, 1), bias=False\n",
       "          (static_padding): Identity()\n",
       "        )\n",
       "        (_bn0): BatchNorm2d(672, eps=0.001, momentum=0.010000000000000009, affine=True, track_running_stats=True)\n",
       "        (_depthwise_conv): Conv2dStaticSamePadding(\n",
       "          672, 672, kernel_size=(3, 3), stride=(1, 1), groups=672, bias=False\n",
       "          (static_padding): ZeroPad2d((1, 1, 1, 1))\n",
       "        )\n",
       "        (_bn1): BatchNorm2d(672, eps=0.001, momentum=0.010000000000000009, affine=True, track_running_stats=True)\n",
       "        (_se_reduce): Conv2dStaticSamePadding(\n",
       "          672, 28, kernel_size=(1, 1), stride=(1, 1)\n",
       "          (static_padding): Identity()\n",
       "        )\n",
       "        (_se_expand): Conv2dStaticSamePadding(\n",
       "          28, 672, kernel_size=(1, 1), stride=(1, 1)\n",
       "          (static_padding): Identity()\n",
       "        )\n",
       "        (_project_conv): Conv2dStaticSamePadding(\n",
       "          672, 112, kernel_size=(1, 1), stride=(1, 1), bias=False\n",
       "          (static_padding): Identity()\n",
       "        )\n",
       "        (_bn2): BatchNorm2d(112, eps=0.001, momentum=0.010000000000000009, affine=True, track_running_stats=True)\n",
       "        (_swish): MemoryEfficientSwish()\n",
       "      )\n",
       "      (16): MBConvBlock(\n",
       "        (_expand_conv): Conv2dStaticSamePadding(\n",
       "          112, 672, kernel_size=(1, 1), stride=(1, 1), bias=False\n",
       "          (static_padding): Identity()\n",
       "        )\n",
       "        (_bn0): BatchNorm2d(672, eps=0.001, momentum=0.010000000000000009, affine=True, track_running_stats=True)\n",
       "        (_depthwise_conv): Conv2dStaticSamePadding(\n",
       "          672, 672, kernel_size=(5, 5), stride=[1, 1], groups=672, bias=False\n",
       "          (static_padding): ZeroPad2d((2, 2, 2, 2))\n",
       "        )\n",
       "        (_bn1): BatchNorm2d(672, eps=0.001, momentum=0.010000000000000009, affine=True, track_running_stats=True)\n",
       "        (_se_reduce): Conv2dStaticSamePadding(\n",
       "          672, 28, kernel_size=(1, 1), stride=(1, 1)\n",
       "          (static_padding): Identity()\n",
       "        )\n",
       "        (_se_expand): Conv2dStaticSamePadding(\n",
       "          28, 672, kernel_size=(1, 1), stride=(1, 1)\n",
       "          (static_padding): Identity()\n",
       "        )\n",
       "        (_project_conv): Conv2dStaticSamePadding(\n",
       "          672, 160, kernel_size=(1, 1), stride=(1, 1), bias=False\n",
       "          (static_padding): Identity()\n",
       "        )\n",
       "        (_bn2): BatchNorm2d(160, eps=0.001, momentum=0.010000000000000009, affine=True, track_running_stats=True)\n",
       "        (_swish): MemoryEfficientSwish()\n",
       "      )\n",
       "      (17-21): 5 x MBConvBlock(\n",
       "        (_expand_conv): Conv2dStaticSamePadding(\n",
       "          160, 960, kernel_size=(1, 1), stride=(1, 1), bias=False\n",
       "          (static_padding): Identity()\n",
       "        )\n",
       "        (_bn0): BatchNorm2d(960, eps=0.001, momentum=0.010000000000000009, affine=True, track_running_stats=True)\n",
       "        (_depthwise_conv): Conv2dStaticSamePadding(\n",
       "          960, 960, kernel_size=(5, 5), stride=(1, 1), groups=960, bias=False\n",
       "          (static_padding): ZeroPad2d((2, 2, 2, 2))\n",
       "        )\n",
       "        (_bn1): BatchNorm2d(960, eps=0.001, momentum=0.010000000000000009, affine=True, track_running_stats=True)\n",
       "        (_se_reduce): Conv2dStaticSamePadding(\n",
       "          960, 40, kernel_size=(1, 1), stride=(1, 1)\n",
       "          (static_padding): Identity()\n",
       "        )\n",
       "        (_se_expand): Conv2dStaticSamePadding(\n",
       "          40, 960, kernel_size=(1, 1), stride=(1, 1)\n",
       "          (static_padding): Identity()\n",
       "        )\n",
       "        (_project_conv): Conv2dStaticSamePadding(\n",
       "          960, 160, kernel_size=(1, 1), stride=(1, 1), bias=False\n",
       "          (static_padding): Identity()\n",
       "        )\n",
       "        (_bn2): BatchNorm2d(160, eps=0.001, momentum=0.010000000000000009, affine=True, track_running_stats=True)\n",
       "        (_swish): MemoryEfficientSwish()\n",
       "      )\n",
       "      (22): MBConvBlock(\n",
       "        (_expand_conv): Conv2dStaticSamePadding(\n",
       "          160, 960, kernel_size=(1, 1), stride=(1, 1), bias=False\n",
       "          (static_padding): Identity()\n",
       "        )\n",
       "        (_bn0): BatchNorm2d(960, eps=0.001, momentum=0.010000000000000009, affine=True, track_running_stats=True)\n",
       "        (_depthwise_conv): Conv2dStaticSamePadding(\n",
       "          960, 960, kernel_size=(5, 5), stride=[2, 2], groups=960, bias=False\n",
       "          (static_padding): ZeroPad2d((1, 2, 1, 2))\n",
       "        )\n",
       "        (_bn1): BatchNorm2d(960, eps=0.001, momentum=0.010000000000000009, affine=True, track_running_stats=True)\n",
       "        (_se_reduce): Conv2dStaticSamePadding(\n",
       "          960, 40, kernel_size=(1, 1), stride=(1, 1)\n",
       "          (static_padding): Identity()\n",
       "        )\n",
       "        (_se_expand): Conv2dStaticSamePadding(\n",
       "          40, 960, kernel_size=(1, 1), stride=(1, 1)\n",
       "          (static_padding): Identity()\n",
       "        )\n",
       "        (_project_conv): Conv2dStaticSamePadding(\n",
       "          960, 272, kernel_size=(1, 1), stride=(1, 1), bias=False\n",
       "          (static_padding): Identity()\n",
       "        )\n",
       "        (_bn2): BatchNorm2d(272, eps=0.001, momentum=0.010000000000000009, affine=True, track_running_stats=True)\n",
       "        (_swish): MemoryEfficientSwish()\n",
       "      )\n",
       "      (23-29): 7 x MBConvBlock(\n",
       "        (_expand_conv): Conv2dStaticSamePadding(\n",
       "          272, 1632, kernel_size=(1, 1), stride=(1, 1), bias=False\n",
       "          (static_padding): Identity()\n",
       "        )\n",
       "        (_bn0): BatchNorm2d(1632, eps=0.001, momentum=0.010000000000000009, affine=True, track_running_stats=True)\n",
       "        (_depthwise_conv): Conv2dStaticSamePadding(\n",
       "          1632, 1632, kernel_size=(5, 5), stride=(1, 1), groups=1632, bias=False\n",
       "          (static_padding): ZeroPad2d((2, 2, 2, 2))\n",
       "        )\n",
       "        (_bn1): BatchNorm2d(1632, eps=0.001, momentum=0.010000000000000009, affine=True, track_running_stats=True)\n",
       "        (_se_reduce): Conv2dStaticSamePadding(\n",
       "          1632, 68, kernel_size=(1, 1), stride=(1, 1)\n",
       "          (static_padding): Identity()\n",
       "        )\n",
       "        (_se_expand): Conv2dStaticSamePadding(\n",
       "          68, 1632, kernel_size=(1, 1), stride=(1, 1)\n",
       "          (static_padding): Identity()\n",
       "        )\n",
       "        (_project_conv): Conv2dStaticSamePadding(\n",
       "          1632, 272, kernel_size=(1, 1), stride=(1, 1), bias=False\n",
       "          (static_padding): Identity()\n",
       "        )\n",
       "        (_bn2): BatchNorm2d(272, eps=0.001, momentum=0.010000000000000009, affine=True, track_running_stats=True)\n",
       "        (_swish): MemoryEfficientSwish()\n",
       "      )\n",
       "      (30): MBConvBlock(\n",
       "        (_expand_conv): Conv2dStaticSamePadding(\n",
       "          272, 1632, kernel_size=(1, 1), stride=(1, 1), bias=False\n",
       "          (static_padding): Identity()\n",
       "        )\n",
       "        (_bn0): BatchNorm2d(1632, eps=0.001, momentum=0.010000000000000009, affine=True, track_running_stats=True)\n",
       "        (_depthwise_conv): Conv2dStaticSamePadding(\n",
       "          1632, 1632, kernel_size=(3, 3), stride=[1, 1], groups=1632, bias=False\n",
       "          (static_padding): ZeroPad2d((1, 1, 1, 1))\n",
       "        )\n",
       "        (_bn1): BatchNorm2d(1632, eps=0.001, momentum=0.010000000000000009, affine=True, track_running_stats=True)\n",
       "        (_se_reduce): Conv2dStaticSamePadding(\n",
       "          1632, 68, kernel_size=(1, 1), stride=(1, 1)\n",
       "          (static_padding): Identity()\n",
       "        )\n",
       "        (_se_expand): Conv2dStaticSamePadding(\n",
       "          68, 1632, kernel_size=(1, 1), stride=(1, 1)\n",
       "          (static_padding): Identity()\n",
       "        )\n",
       "        (_project_conv): Conv2dStaticSamePadding(\n",
       "          1632, 448, kernel_size=(1, 1), stride=(1, 1), bias=False\n",
       "          (static_padding): Identity()\n",
       "        )\n",
       "        (_bn2): BatchNorm2d(448, eps=0.001, momentum=0.010000000000000009, affine=True, track_running_stats=True)\n",
       "        (_swish): MemoryEfficientSwish()\n",
       "      )\n",
       "      (31): MBConvBlock(\n",
       "        (_expand_conv): Conv2dStaticSamePadding(\n",
       "          448, 2688, kernel_size=(1, 1), stride=(1, 1), bias=False\n",
       "          (static_padding): Identity()\n",
       "        )\n",
       "        (_bn0): BatchNorm2d(2688, eps=0.001, momentum=0.010000000000000009, affine=True, track_running_stats=True)\n",
       "        (_depthwise_conv): Conv2dStaticSamePadding(\n",
       "          2688, 2688, kernel_size=(3, 3), stride=(1, 1), groups=2688, bias=False\n",
       "          (static_padding): ZeroPad2d((1, 1, 1, 1))\n",
       "        )\n",
       "        (_bn1): BatchNorm2d(2688, eps=0.001, momentum=0.010000000000000009, affine=True, track_running_stats=True)\n",
       "        (_se_reduce): Conv2dStaticSamePadding(\n",
       "          2688, 112, kernel_size=(1, 1), stride=(1, 1)\n",
       "          (static_padding): Identity()\n",
       "        )\n",
       "        (_se_expand): Conv2dStaticSamePadding(\n",
       "          112, 2688, kernel_size=(1, 1), stride=(1, 1)\n",
       "          (static_padding): Identity()\n",
       "        )\n",
       "        (_project_conv): Conv2dStaticSamePadding(\n",
       "          2688, 448, kernel_size=(1, 1), stride=(1, 1), bias=False\n",
       "          (static_padding): Identity()\n",
       "        )\n",
       "        (_bn2): BatchNorm2d(448, eps=0.001, momentum=0.010000000000000009, affine=True, track_running_stats=True)\n",
       "        (_swish): MemoryEfficientSwish()\n",
       "      )\n",
       "    )\n",
       "    (_conv_head): Conv2dStaticSamePadding(\n",
       "      448, 1792, kernel_size=(1, 1), stride=(1, 1), bias=False\n",
       "      (static_padding): Identity()\n",
       "    )\n",
       "    (_bn1): BatchNorm2d(1792, eps=0.001, momentum=0.010000000000000009, affine=True, track_running_stats=True)\n",
       "    (_avg_pooling): AdaptiveAvgPool2d(output_size=1)\n",
       "    (_dropout): Dropout(p=0.4, inplace=False)\n",
       "    (_fc): Linear(in_features=1792, out_features=1000, bias=True)\n",
       "    (_swish): MemoryEfficientSwish()\n",
       "  )\n",
       "  (downsamples): ModuleList(\n",
       "    (0): Upsample(scale_factor=0.125, mode='bilinear')\n",
       "    (1): Upsample(scale_factor=0.25, mode='bilinear')\n",
       "    (2): Upsample(scale_factor=0.5, mode='bilinear')\n",
       "    (3): Upsample(scale_factor=1.0, mode='bilinear')\n",
       "  )\n",
       ")"
      ]
     },
     "execution_count": 84,
     "metadata": {},
     "output_type": "execute_result"
    }
   ],
   "source": [
    "model_kwargs = {\n",
    "    'model_type': 'efficientnet-b4',\n",
    "    'outblocks': (1, 5, 9, 21),\n",
    "    'outstrides': (2, 4, 8, 16),\n",
    "    'pretrained': True,\n",
    "    'stride': 16\n",
    "}\n",
    "# model_kwargs = {\n",
    "#     'model_type': 'wide_resnet50_2',\n",
    "# }\n",
    "print(f\"Using feature space reconstruction with {model_kwargs['model_type']} backbone\")\n",
    "feature_extractor = get_backbone(**model_kwargs)\n",
    "feature_extractor.to(device).eval()"
   ]
  },
  {
   "cell_type": "code",
   "execution_count": 85,
   "metadata": {},
   "outputs": [],
   "source": [
    "bs = 8\n",
    "train_loader = DataLoader(train_dataset, batch_size=bs, shuffle=True, num_workers=4, drop_last=False)\n",
    "normal_dataloader = DataLoader(normal_dataset, batch_size=bs, shuffle=False, num_workers=4, drop_last=False)\n",
    "anom_dataloader = DataLoader(anom_dataset, batch_size=bs, shuffle=False, num_workers=4, drop_last=False)\n",
    "\n",
    "start_t = torch.tensor([0] * bs, device=device, dtype=torch.long)\n",
    "end_t = torch.tensor([num_inference_steps] * bs, device=device, dtype=torch.long)"
   ]
  },
  {
   "cell_type": "code",
   "execution_count": 7,
   "metadata": {},
   "outputs": [
    {
     "name": "stderr",
     "output_type": "stream",
     "text": [
      "100%|██████████| 27/27 [00:02<00:00, 12.53it/s]\n"
     ]
    }
   ],
   "source": [
    "# Compute global stats for training data\n",
    "features = []\n",
    "for i, data in tqdm(enumerate(train_loader), total=len(train_loader)):\n",
    "    img = data[\"samples\"].to(device)\n",
    "    with torch.no_grad():\n",
    "        x, _ = feature_extractor(img)\n",
    "        features.append(x)\n",
    "features = torch.cat(features, dim=0)   # (N, c, h, w)\n",
    "avg_glo = features.mean(dim=(0, 2, 3))  # (c, )\n",
    "std_glo = features.std(dim=(0, 2, 3))  # (c, )"
   ]
  },
  {
   "cell_type": "code",
   "execution_count": 8,
   "metadata": {},
   "outputs": [],
   "source": [
    "def ddim_reverse_sample(\n",
    "    model,\n",
    "    x_t, \n",
    "    t, \n",
    "    cls_labels,\n",
    "):\n",
    "    model_kwargs = dict(c=cls_labels)\n",
    "    sample_fn = model.net.forward\n",
    "    \n",
    "    indices = list(range(t[0].item(), int(model.num_sampling_steps)))\n",
    "    intermediate_samples = []\n",
    "    for i in indices:\n",
    "        t = torch.tensor([i] * x_t.shape[0]).to(x_t.device)\n",
    "        out = model.sample_diffusion.ddim_reverse_sample(\n",
    "            sample_fn,\n",
    "            x_t,\n",
    "            t,\n",
    "            clip_denoised=False,\n",
    "            model_kwargs=model_kwargs,\n",
    "            eta=0.0\n",
    "        )\n",
    "        x_t = out[\"sample\"]\n",
    "        intermediate_samples.append(x_t)\n",
    "    return x_t, intermediate_samples"
   ]
  },
  {
   "cell_type": "code",
   "execution_count": 9,
   "metadata": {},
   "outputs": [],
   "source": [
    "def get_last_latents(\n",
    "    dataloader, \n",
    "    model,\n",
    "    feature_extractor,\n",
    "    avg_glo,\n",
    "    std_glo,\n",
    "    start_t,\n",
    "):\n",
    "    last_latents = []\n",
    "    for i, data in enumerate(dataloader):\n",
    "        img = data[\"samples\"].to(device)\n",
    "        labels = data[\"clslabels\"].to(device)\n",
    "        with torch.no_grad():\n",
    "            x, _ = feature_extractor(img)\n",
    "            x = (x - avg_glo[None, :, None, None]) / (std_glo[None, :, None, None] + 1e-6)\n",
    "            x_t, _ = ddim_reverse_sample(model, x, start_t, labels)\n",
    "            last_latents.append(x_t)\n",
    "    return torch.cat(last_latents, dim=0)"
   ]
  },
  {
   "cell_type": "code",
   "execution_count": 10,
   "metadata": {},
   "outputs": [],
   "source": [
    "num_inference_steps = 2\n",
    "model = init_denoiser(num_inference_steps, device, config, mim_in_sh, ckpt_path)"
   ]
  },
  {
   "cell_type": "code",
   "execution_count": 11,
   "metadata": {},
   "outputs": [
    {
     "name": "stderr",
     "output_type": "stream",
     "text": [
      "100%|██████████| 3/3 [00:01<00:00,  2.70it/s]"
     ]
    },
    {
     "name": "stdout",
     "output_type": "stream",
     "text": [
      "Average Latency: 0.10373719657460849[s] for batch size 8\n"
     ]
    },
    {
     "name": "stderr",
     "output_type": "stream",
     "text": [
      "\n"
     ]
    }
   ],
   "source": [
    "def calculate_log_pdf(x):\n",
    "    ll = -0.5 * (x ** 2 + np.log(2 * np.pi))\n",
    "    ll = ll.sum(dim=(1, 2, 3))\n",
    "    return ll\n",
    "\n",
    "def calculate_log_pdf_spatial(x):\n",
    "    ll = -0.5 * (x ** 2 + np.log(2 * np.pi))\n",
    "    ll = ll.sum(dim=1)\n",
    "    return ll  # (N, h, w)\n",
    "\n",
    "import time\n",
    "\n",
    "normal_lls = []\n",
    "lts = []\n",
    "for batch in tqdm(normal_dataloader):\n",
    "    images = batch[\"samples\"].to(device)\n",
    "    labels = batch[\"clslabels\"].to(device)\n",
    "    \n",
    "    s_t = time.perf_counter()\n",
    "    with torch.no_grad():\n",
    "        latents_org, _ = feature_extractor(images)\n",
    "        latents_org = (latents_org - avg_glo.view(1, -1, 1, 1)) / (std_glo.view(1, -1, 1, 1) + 1e-6)\n",
    "        # TODO: \n",
    "        # labels = None\n",
    "        latents_last  = model.ddim_reverse_sample(\n",
    "            latents_org, \n",
    "            start_t, \n",
    "            labels,\n",
    "            eta=0.0\n",
    "        )\n",
    "        # latents_last = latents_org\n",
    "    e_t = time.perf_counter()\n",
    "    lts.append(e_t - s_t)\n",
    "    ll = calculate_log_pdf(latents_last.cpu())\n",
    "    normal_lls.extend(ll)\n",
    "\n",
    "print(f\"Average Latency: {np.mean(lts)}[s] for batch size {bs}\")"
   ]
  },
  {
   "cell_type": "code",
   "execution_count": 12,
   "metadata": {},
   "outputs": [
    {
     "name": "stderr",
     "output_type": "stream",
     "text": [
      "100%|██████████| 8/8 [00:01<00:00,  4.79it/s]\n"
     ]
    }
   ],
   "source": [
    "anom_lls = []\n",
    "for batch in tqdm(anom_dataloader):\n",
    "    images = batch[\"samples\"].to(device)\n",
    "    labels = batch[\"clslabels\"].to(device)\n",
    "    \n",
    "    with torch.no_grad():\n",
    "        latents_org, _ = feature_extractor(images)\n",
    "        latents_org = (latents_org - avg_glo.view(1, -1, 1, 1)) / (std_glo.view(1, -1, 1, 1) + 1e-6)\n",
    "        # TODO: \n",
    "        # labels = None  # For previous model\n",
    "        latents_last = model.ddim_reverse_sample(\n",
    "            latents_org, start_t, labels, eta=0.0\n",
    "        )\n",
    "        # latents_last = latents_org\n",
    "    \n",
    "    ll = calculate_log_pdf(latents_last.cpu())\n",
    "    anom_lls.extend(ll)"
   ]
  },
  {
   "cell_type": "code",
   "execution_count": 13,
   "metadata": {},
   "outputs": [
    {
     "data": {
      "image/png": "[encoded data removed]",
      "text/plain": [
       "<Figure size 640x480 with 1 Axes>"
      ]
     },
     "metadata": {},
     "output_type": "display_data"
    }
   ],
   "source": [
    "plt.hist(normal_lls, bins=100, alpha=0.5, label=\"normal\")\n",
    "plt.hist(anom_lls, bins=100, alpha=0.5, label=\"anom\")\n",
    "plt.legend()\n",
    "plt.show()"
   ]
  },
  {
   "cell_type": "code",
   "execution_count": 14,
   "metadata": {},
   "outputs": [],
   "source": [
    "from sklearn.metrics import roc_curve, roc_auc_score\n",
    "normal_lls = np.array(normal_lls) * -1\n",
    "anom_lls = np.array(anom_lls) * -1\n",
    "y_true = np.concatenate([np.zeros(len(normal_lls)), np.ones(len(anom_lls))])\n",
    "y_score = np.concatenate([normal_lls, anom_lls])\n",
    "fpr, tpr, _ = roc_curve(y_true, y_score)\n",
    "roc_auc = roc_auc_score(y_true, y_score)"
   ]
  },
  {
   "cell_type": "code",
   "execution_count": 15,
   "metadata": {},
   "outputs": [
    {
     "data": {
      "image/png": "[encoded data removed]",
      "text/plain": [
       "<Figure size 640x480 with 1 Axes>"
      ]
     },
     "metadata": {},
     "output_type": "display_data"
    }
   ],
   "source": [
    "fig, ax = plt.subplots()\n",
    "ax.plot(fpr, tpr, label=f\"ROC curve (area = {roc_auc:.3f})\")\n",
    "ax.plot([0, 1], [0, 1], linestyle=\"--\")\n",
    "ax.set_xlabel(\"False Positive Rate\")\n",
    "ax.set_ylabel(\"True Positive Rate\")\n",
    "ax.legend()\n",
    "plt.show()"
   ]
  },
  {
   "cell_type": "code",
   "execution_count": 719,
   "metadata": {},
   "outputs": [
    {
     "name": "stderr",
     "output_type": "stream",
     "text": [
      "  0%|          | 0/10 [00:03<?, ?it/s]\n"
     ]
    },
    {
     "ename": "KeyboardInterrupt",
     "evalue": "",
     "output_type": "error",
     "traceback": [
      "\u001b[0;31m---------------------------------------------------------------------------\u001b[0m",
      "\u001b[0;31mKeyboardInterrupt\u001b[0m                         Traceback (most recent call last)",
      "Cell \u001b[0;32mIn[719], line 6\u001b[0m\n\u001b[1;32m      4\u001b[0m \u001b[38;5;28;01mfor\u001b[39;00m s \u001b[38;5;129;01min\u001b[39;00m tqdm(steps_list):\n\u001b[1;32m      5\u001b[0m     model \u001b[38;5;241m=\u001b[39m init_denoiser(s, device, config, mim_in_sh, ckpt_path)\n\u001b[0;32m----> 6\u001b[0m     x_ts_t \u001b[38;5;241m=\u001b[39m \u001b[43mget_last_latents\u001b[49m\u001b[43m(\u001b[49m\u001b[43mtrain_loader\u001b[49m\u001b[43m,\u001b[49m\u001b[43m \u001b[49m\u001b[43mmodel\u001b[49m\u001b[43m,\u001b[49m\u001b[43m \u001b[49m\u001b[43mfeature_extractor\u001b[49m\u001b[43m,\u001b[49m\u001b[43m \u001b[49m\u001b[43mavg_glo\u001b[49m\u001b[43m,\u001b[49m\u001b[43m \u001b[49m\u001b[43mstd_glo\u001b[49m\u001b[43m,\u001b[49m\u001b[43m \u001b[49m\u001b[43mstart_t\u001b[49m\u001b[43m)\u001b[49m\n\u001b[1;32m      7\u001b[0m     x_ts_n \u001b[38;5;241m=\u001b[39m get_last_latents(normal_dataloader, model, feature_extractor, avg_glo, std_glo, start_t)\n\u001b[1;32m      8\u001b[0m     x_ts_a \u001b[38;5;241m=\u001b[39m get_last_latents(anom_dataloader, model, feature_extractor, avg_glo, std_glo, start_t)\n",
      "Cell \u001b[0;32mIn[713], line 10\u001b[0m, in \u001b[0;36mget_last_latents\u001b[0;34m(dataloader, model, feature_extractor, avg_glo, std_glo, start_t)\u001b[0m\n\u001b[1;32m      1\u001b[0m \u001b[38;5;28;01mdef\u001b[39;00m \u001b[38;5;21mget_last_latents\u001b[39m(\n\u001b[1;32m      2\u001b[0m     dataloader, \n\u001b[1;32m      3\u001b[0m     model,\n\u001b[0;32m   (...)\u001b[0m\n\u001b[1;32m      7\u001b[0m     start_t,\n\u001b[1;32m      8\u001b[0m ):\n\u001b[1;32m      9\u001b[0m     last_latents \u001b[38;5;241m=\u001b[39m []\n\u001b[0;32m---> 10\u001b[0m \u001b[43m    \u001b[49m\u001b[38;5;28;43;01mfor\u001b[39;49;00m\u001b[43m \u001b[49m\u001b[43mi\u001b[49m\u001b[43m,\u001b[49m\u001b[43m \u001b[49m\u001b[43mdata\u001b[49m\u001b[43m \u001b[49m\u001b[38;5;129;43;01min\u001b[39;49;00m\u001b[43m \u001b[49m\u001b[38;5;28;43menumerate\u001b[39;49m\u001b[43m(\u001b[49m\u001b[43mdataloader\u001b[49m\u001b[43m)\u001b[49m\u001b[43m:\u001b[49m\n\u001b[1;32m     11\u001b[0m \u001b[43m        \u001b[49m\u001b[43mimg\u001b[49m\u001b[43m \u001b[49m\u001b[38;5;241;43m=\u001b[39;49m\u001b[43m \u001b[49m\u001b[43mdata\u001b[49m\u001b[43m[\u001b[49m\u001b[38;5;124;43m\"\u001b[39;49m\u001b[38;5;124;43msamples\u001b[39;49m\u001b[38;5;124;43m\"\u001b[39;49m\u001b[43m]\u001b[49m\u001b[38;5;241;43m.\u001b[39;49m\u001b[43mto\u001b[49m\u001b[43m(\u001b[49m\u001b[43mdevice\u001b[49m\u001b[43m)\u001b[49m\n\u001b[1;32m     12\u001b[0m \u001b[43m        \u001b[49m\u001b[43mlabels\u001b[49m\u001b[43m \u001b[49m\u001b[38;5;241;43m=\u001b[39;49m\u001b[43m \u001b[49m\u001b[43mdata\u001b[49m\u001b[43m[\u001b[49m\u001b[38;5;124;43m\"\u001b[39;49m\u001b[38;5;124;43mclslabels\u001b[39;49m\u001b[38;5;124;43m\"\u001b[39;49m\u001b[43m]\u001b[49m\u001b[38;5;241;43m.\u001b[39;49m\u001b[43mto\u001b[49m\u001b[43m(\u001b[49m\u001b[43mdevice\u001b[49m\u001b[43m)\u001b[49m\n",
      "File \u001b[0;32m~/anaconda3/envs/anomar/lib/python3.12/site-packages/torch/utils/data/dataloader.py:701\u001b[0m, in \u001b[0;36m_BaseDataLoaderIter.__next__\u001b[0;34m(self)\u001b[0m\n\u001b[1;32m    698\u001b[0m \u001b[38;5;28;01mif\u001b[39;00m \u001b[38;5;28mself\u001b[39m\u001b[38;5;241m.\u001b[39m_sampler_iter \u001b[38;5;129;01mis\u001b[39;00m \u001b[38;5;28;01mNone\u001b[39;00m:\n\u001b[1;32m    699\u001b[0m     \u001b[38;5;66;03m# TODO(https://github.com/pytorch/pytorch/issues/76750)\u001b[39;00m\n\u001b[1;32m    700\u001b[0m     \u001b[38;5;28mself\u001b[39m\u001b[38;5;241m.\u001b[39m_reset()  \u001b[38;5;66;03m# type: ignore[call-arg]\u001b[39;00m\n\u001b[0;32m--> 701\u001b[0m data \u001b[38;5;241m=\u001b[39m \u001b[38;5;28;43mself\u001b[39;49m\u001b[38;5;241;43m.\u001b[39;49m\u001b[43m_next_data\u001b[49m\u001b[43m(\u001b[49m\u001b[43m)\u001b[49m\n\u001b[1;32m    702\u001b[0m \u001b[38;5;28mself\u001b[39m\u001b[38;5;241m.\u001b[39m_num_yielded \u001b[38;5;241m+\u001b[39m\u001b[38;5;241m=\u001b[39m \u001b[38;5;241m1\u001b[39m\n\u001b[1;32m    703\u001b[0m \u001b[38;5;28;01mif\u001b[39;00m (\n\u001b[1;32m    704\u001b[0m     \u001b[38;5;28mself\u001b[39m\u001b[38;5;241m.\u001b[39m_dataset_kind \u001b[38;5;241m==\u001b[39m _DatasetKind\u001b[38;5;241m.\u001b[39mIterable\n\u001b[1;32m    705\u001b[0m     \u001b[38;5;129;01mand\u001b[39;00m \u001b[38;5;28mself\u001b[39m\u001b[38;5;241m.\u001b[39m_IterableDataset_len_called \u001b[38;5;129;01mis\u001b[39;00m \u001b[38;5;129;01mnot\u001b[39;00m \u001b[38;5;28;01mNone\u001b[39;00m\n\u001b[1;32m    706\u001b[0m     \u001b[38;5;129;01mand\u001b[39;00m \u001b[38;5;28mself\u001b[39m\u001b[38;5;241m.\u001b[39m_num_yielded \u001b[38;5;241m>\u001b[39m \u001b[38;5;28mself\u001b[39m\u001b[38;5;241m.\u001b[39m_IterableDataset_len_called\n\u001b[1;32m    707\u001b[0m ):\n",
      "File \u001b[0;32m~/anaconda3/envs/anomar/lib/python3.12/site-packages/torch/utils/data/dataloader.py:1437\u001b[0m, in \u001b[0;36m_MultiProcessingDataLoaderIter._next_data\u001b[0;34m(self)\u001b[0m\n\u001b[1;32m   1434\u001b[0m \u001b[38;5;28;01melse\u001b[39;00m:\n\u001b[1;32m   1435\u001b[0m     \u001b[38;5;66;03m# no valid `self._rcvd_idx` is found (i.e., didn't break)\u001b[39;00m\n\u001b[1;32m   1436\u001b[0m     \u001b[38;5;28;01mif\u001b[39;00m \u001b[38;5;129;01mnot\u001b[39;00m \u001b[38;5;28mself\u001b[39m\u001b[38;5;241m.\u001b[39m_persistent_workers:\n\u001b[0;32m-> 1437\u001b[0m         \u001b[38;5;28;43mself\u001b[39;49m\u001b[38;5;241;43m.\u001b[39;49m\u001b[43m_shutdown_workers\u001b[49m\u001b[43m(\u001b[49m\u001b[43m)\u001b[49m\n\u001b[1;32m   1438\u001b[0m     \u001b[38;5;28;01mraise\u001b[39;00m \u001b[38;5;167;01mStopIteration\u001b[39;00m\n\u001b[1;32m   1440\u001b[0m \u001b[38;5;66;03m# Now `self._rcvd_idx` is the batch index we want to fetch\u001b[39;00m\n\u001b[1;32m   1441\u001b[0m \n\u001b[1;32m   1442\u001b[0m \u001b[38;5;66;03m# Check if the next sample has already been generated\u001b[39;00m\n",
      "File \u001b[0;32m~/anaconda3/envs/anomar/lib/python3.12/site-packages/torch/utils/data/dataloader.py:1568\u001b[0m, in \u001b[0;36m_MultiProcessingDataLoaderIter._shutdown_workers\u001b[0;34m(self)\u001b[0m\n\u001b[1;32m   1563\u001b[0m         \u001b[38;5;28mself\u001b[39m\u001b[38;5;241m.\u001b[39m_mark_worker_as_unavailable(worker_id, shutdown\u001b[38;5;241m=\u001b[39m\u001b[38;5;28;01mTrue\u001b[39;00m)\n\u001b[1;32m   1564\u001b[0m \u001b[38;5;28;01mfor\u001b[39;00m w \u001b[38;5;129;01min\u001b[39;00m \u001b[38;5;28mself\u001b[39m\u001b[38;5;241m.\u001b[39m_workers:\n\u001b[1;32m   1565\u001b[0m     \u001b[38;5;66;03m# We should be able to join here, but in case anything went\u001b[39;00m\n\u001b[1;32m   1566\u001b[0m     \u001b[38;5;66;03m# wrong, we set a timeout and if the workers fail to join,\u001b[39;00m\n\u001b[1;32m   1567\u001b[0m     \u001b[38;5;66;03m# they are killed in the `finally` block.\u001b[39;00m\n\u001b[0;32m-> 1568\u001b[0m     \u001b[43mw\u001b[49m\u001b[38;5;241;43m.\u001b[39;49m\u001b[43mjoin\u001b[49m\u001b[43m(\u001b[49m\u001b[43mtimeout\u001b[49m\u001b[38;5;241;43m=\u001b[39;49m\u001b[43m_utils\u001b[49m\u001b[38;5;241;43m.\u001b[39;49m\u001b[43mMP_STATUS_CHECK_INTERVAL\u001b[49m\u001b[43m)\u001b[49m\n\u001b[1;32m   1569\u001b[0m \u001b[38;5;28;01mfor\u001b[39;00m q \u001b[38;5;129;01min\u001b[39;00m \u001b[38;5;28mself\u001b[39m\u001b[38;5;241m.\u001b[39m_index_queues:\n\u001b[1;32m   1570\u001b[0m     q\u001b[38;5;241m.\u001b[39mcancel_join_thread()\n",
      "File \u001b[0;32m~/anaconda3/envs/anomar/lib/python3.12/multiprocessing/process.py:149\u001b[0m, in \u001b[0;36mBaseProcess.join\u001b[0;34m(self, timeout)\u001b[0m\n\u001b[1;32m    147\u001b[0m \u001b[38;5;28;01massert\u001b[39;00m \u001b[38;5;28mself\u001b[39m\u001b[38;5;241m.\u001b[39m_parent_pid \u001b[38;5;241m==\u001b[39m os\u001b[38;5;241m.\u001b[39mgetpid(), \u001b[38;5;124m'\u001b[39m\u001b[38;5;124mcan only join a child process\u001b[39m\u001b[38;5;124m'\u001b[39m\n\u001b[1;32m    148\u001b[0m \u001b[38;5;28;01massert\u001b[39;00m \u001b[38;5;28mself\u001b[39m\u001b[38;5;241m.\u001b[39m_popen \u001b[38;5;129;01mis\u001b[39;00m \u001b[38;5;129;01mnot\u001b[39;00m \u001b[38;5;28;01mNone\u001b[39;00m, \u001b[38;5;124m'\u001b[39m\u001b[38;5;124mcan only join a started process\u001b[39m\u001b[38;5;124m'\u001b[39m\n\u001b[0;32m--> 149\u001b[0m res \u001b[38;5;241m=\u001b[39m \u001b[38;5;28;43mself\u001b[39;49m\u001b[38;5;241;43m.\u001b[39;49m\u001b[43m_popen\u001b[49m\u001b[38;5;241;43m.\u001b[39;49m\u001b[43mwait\u001b[49m\u001b[43m(\u001b[49m\u001b[43mtimeout\u001b[49m\u001b[43m)\u001b[49m\n\u001b[1;32m    150\u001b[0m \u001b[38;5;28;01mif\u001b[39;00m res \u001b[38;5;129;01mis\u001b[39;00m \u001b[38;5;129;01mnot\u001b[39;00m \u001b[38;5;28;01mNone\u001b[39;00m:\n\u001b[1;32m    151\u001b[0m     _children\u001b[38;5;241m.\u001b[39mdiscard(\u001b[38;5;28mself\u001b[39m)\n",
      "File \u001b[0;32m~/anaconda3/envs/anomar/lib/python3.12/multiprocessing/popen_fork.py:40\u001b[0m, in \u001b[0;36mPopen.wait\u001b[0;34m(self, timeout)\u001b[0m\n\u001b[1;32m     38\u001b[0m \u001b[38;5;28;01mif\u001b[39;00m timeout \u001b[38;5;129;01mis\u001b[39;00m \u001b[38;5;129;01mnot\u001b[39;00m \u001b[38;5;28;01mNone\u001b[39;00m:\n\u001b[1;32m     39\u001b[0m     \u001b[38;5;28;01mfrom\u001b[39;00m \u001b[38;5;21;01mmultiprocessing\u001b[39;00m\u001b[38;5;21;01m.\u001b[39;00m\u001b[38;5;21;01mconnection\u001b[39;00m \u001b[38;5;28;01mimport\u001b[39;00m wait\n\u001b[0;32m---> 40\u001b[0m     \u001b[38;5;28;01mif\u001b[39;00m \u001b[38;5;129;01mnot\u001b[39;00m \u001b[43mwait\u001b[49m\u001b[43m(\u001b[49m\u001b[43m[\u001b[49m\u001b[38;5;28;43mself\u001b[39;49m\u001b[38;5;241;43m.\u001b[39;49m\u001b[43msentinel\u001b[49m\u001b[43m]\u001b[49m\u001b[43m,\u001b[49m\u001b[43m \u001b[49m\u001b[43mtimeout\u001b[49m\u001b[43m)\u001b[49m:\n\u001b[1;32m     41\u001b[0m         \u001b[38;5;28;01mreturn\u001b[39;00m \u001b[38;5;28;01mNone\u001b[39;00m\n\u001b[1;32m     42\u001b[0m \u001b[38;5;66;03m# This shouldn't block if wait() returned successfully.\u001b[39;00m\n",
      "File \u001b[0;32m~/anaconda3/envs/anomar/lib/python3.12/multiprocessing/connection.py:1136\u001b[0m, in \u001b[0;36mwait\u001b[0;34m(object_list, timeout)\u001b[0m\n\u001b[1;32m   1133\u001b[0m     deadline \u001b[38;5;241m=\u001b[39m time\u001b[38;5;241m.\u001b[39mmonotonic() \u001b[38;5;241m+\u001b[39m timeout\n\u001b[1;32m   1135\u001b[0m \u001b[38;5;28;01mwhile\u001b[39;00m \u001b[38;5;28;01mTrue\u001b[39;00m:\n\u001b[0;32m-> 1136\u001b[0m     ready \u001b[38;5;241m=\u001b[39m \u001b[43mselector\u001b[49m\u001b[38;5;241;43m.\u001b[39;49m\u001b[43mselect\u001b[49m\u001b[43m(\u001b[49m\u001b[43mtimeout\u001b[49m\u001b[43m)\u001b[49m\n\u001b[1;32m   1137\u001b[0m     \u001b[38;5;28;01mif\u001b[39;00m ready:\n\u001b[1;32m   1138\u001b[0m         \u001b[38;5;28;01mreturn\u001b[39;00m [key\u001b[38;5;241m.\u001b[39mfileobj \u001b[38;5;28;01mfor\u001b[39;00m (key, events) \u001b[38;5;129;01min\u001b[39;00m ready]\n",
      "File \u001b[0;32m~/anaconda3/envs/anomar/lib/python3.12/selectors.py:415\u001b[0m, in \u001b[0;36m_PollLikeSelector.select\u001b[0;34m(self, timeout)\u001b[0m\n\u001b[1;32m    413\u001b[0m ready \u001b[38;5;241m=\u001b[39m []\n\u001b[1;32m    414\u001b[0m \u001b[38;5;28;01mtry\u001b[39;00m:\n\u001b[0;32m--> 415\u001b[0m     fd_event_list \u001b[38;5;241m=\u001b[39m \u001b[38;5;28;43mself\u001b[39;49m\u001b[38;5;241;43m.\u001b[39;49m\u001b[43m_selector\u001b[49m\u001b[38;5;241;43m.\u001b[39;49m\u001b[43mpoll\u001b[49m\u001b[43m(\u001b[49m\u001b[43mtimeout\u001b[49m\u001b[43m)\u001b[49m\n\u001b[1;32m    416\u001b[0m \u001b[38;5;28;01mexcept\u001b[39;00m \u001b[38;5;167;01mInterruptedError\u001b[39;00m:\n\u001b[1;32m    417\u001b[0m     \u001b[38;5;28;01mreturn\u001b[39;00m ready\n",
      "\u001b[0;31mKeyboardInterrupt\u001b[0m: "
     ]
    }
   ],
   "source": [
    "steps_list = [2, 3, 4, 5, 8, 11, 15, 20, 25, 30]\n",
    "\n",
    "results_dict = {s: {'n': [], 'a': [], 't': []} for s in steps_list}\n",
    "for s in tqdm(steps_list):\n",
    "    model = init_denoiser(s, device, config, mim_in_sh, ckpt_path)\n",
    "    x_ts_t = get_last_latents(train_loader, model, feature_extractor, avg_glo, std_glo, start_t)\n",
    "    x_ts_n = get_last_latents(normal_dataloader, model, feature_extractor, avg_glo, std_glo, start_t)\n",
    "    x_ts_a = get_last_latents(anom_dataloader, model, feature_extractor, avg_glo, std_glo, start_t)\n",
    "    results_dict[s]['t'] = x_ts_t\n",
    "    results_dict[s]['n'] = x_ts_n\n",
    "    results_dict[s]['a'] = x_ts_a"
   ]
  },
  {
   "cell_type": "code",
   "execution_count": null,
   "metadata": {},
   "outputs": [
    {
     "data": {
      "image/png": "[encoded data removed]",
      "text/plain": [
       "<Figure size 640x480 with 1 Axes>"
      ]
     },
     "metadata": {},
     "output_type": "display_data"
    }
   ],
   "source": [
    "# Plot average norm of each x_T for all steps\n",
    "avg_norms = {s: {'n': 0, 'a': 0, 't': 0} for s in steps_list}\n",
    "for s in steps_list:\n",
    "    x_ts_n = results_dict[s]['n']\n",
    "    x_ts_a = results_dict[s]['a']\n",
    "    x_ts_t = results_dict[s]['t']\n",
    "    avg_norms[s]['n'] = torch.sum(x_ts_n ** 2, dim=(1, 2, 3)).mean().sqrt().item()\n",
    "    avg_norms[s]['a'] = torch.sum(x_ts_a ** 2, dim=(1, 2, 3)).mean().sqrt().item()\n",
    "    avg_norms[s]['t'] = torch.sum(x_ts_t ** 2, dim=(1, 2, 3)).mean().sqrt().item()\n",
    "    \n",
    "# Plot average norm of each x_T for all steps\n",
    "# y_dim: average norm of x_T\n",
    "# x_dim: number of steps\n",
    "\n",
    "plt.plot([avg_norms[s]['n'] for s in steps_list], label=\"normal\")\n",
    "plt.plot([avg_norms[s]['a'] for s in steps_list], label=\"anom\")\n",
    "plt.plot([avg_norms[s]['t'] for s in steps_list], label=\"train\")\n",
    "plt.xticks(range(len(steps_list)), steps_list)\n",
    "plt.xlabel(\"Number of steps\")\n",
    "plt.ylabel(\"Average norm of x_T\")\n",
    "plt.legend()\n",
    "plt.show()"
   ]
  },
  {
   "cell_type": "code",
   "execution_count": null,
   "metadata": {},
   "outputs": [
    {
     "data": {
      "text/plain": [
       "{2: {'n': 112.79133605957031, 'a': 140.08746337890625, 't': 73.95531463623047},\n",
       " 3: {'n': 233.31375122070312,\n",
       "  'a': 251.20481872558594,\n",
       "  't': 193.95533752441406},\n",
       " 4: {'n': 268.9453430175781, 'a': 275.7479553222656, 't': 244.17173767089844},\n",
       " 5: {'n': 279.2037658691406, 'a': 282.9316711425781, 't': 260.14764404296875},\n",
       " 8: {'n': 289.4996337890625, 'a': 290.2095947265625, 't': 276.2005615234375},\n",
       " 11: {'n': 293.05126953125, 'a': 292.7216491699219, 't': 282.00341796875},\n",
       " 15: {'n': 295.23760986328125, 'a': 294.2610168457031, 't': 285.7522277832031},\n",
       " 20: {'n': 296.5745849609375, 'a': 295.2013244628906, 't': 288.0845031738281},\n",
       " 25: {'n': 297.3114318847656, 'a': 295.7187194824219, 't': 289.4070739746094},\n",
       " 30: {'n': 297.7944030761719, 'a': 296.06427001953125, 't': 290.2554626464844}}"
      ]
     },
     "execution_count": 307,
     "metadata": {},
     "output_type": "execute_result"
    }
   ],
   "source": [
    "avg_norms"
   ]
  },
  {
   "cell_type": "markdown",
   "metadata": {},
   "source": [
    "### Typicality Test in Latent Space (TTL)"
   ]
  },
  {
   "cell_type": "code",
   "execution_count": 55,
   "metadata": {},
   "outputs": [],
   "source": [
    "num_dims = mim_in_sh[0] # * mim_in_sh[1] * mim_in_sh[2]\n",
    "\n",
    "start_idx = 0\n",
    "# start_t = torch.tensor([start_t] * bs, device=device, dtype=torch.long)\n",
    "num_dims = 0# mim_in_sh[0]"
   ]
  },
  {
   "cell_type": "code",
   "execution_count": 101,
   "metadata": {},
   "outputs": [
    {
     "name": "stderr",
     "output_type": "stream",
     "text": [
      "100%|██████████| 8/8 [00:01<00:00,  4.57it/s]"
     ]
    },
    {
     "name": "stdout",
     "output_type": "stream",
     "text": [
      "Average Latency: 0.06467679142951965[s] for batch size 8\n"
     ]
    },
    {
     "name": "stderr",
     "output_type": "stream",
     "text": [
      "\n"
     ]
    }
   ],
   "source": [
    "num_inference_steps = 10\n",
    "model = init_denoiser(num_inference_steps, device, config, mim_in_sh, ckpt_path)\n",
    "\n",
    "normal_ats = []\n",
    "normal_nlls = []\n",
    "lts = []\n",
    "import time\n",
    "for batch in tqdm(normal_dataloader):\n",
    "    images = batch[\"samples\"].to(device)\n",
    "    labels = batch[\"clslabels\"].to(device)\n",
    "    \n",
    "    s_t = time.time()\n",
    "    with torch.no_grad():\n",
    "        latents_org, _ = feature_extractor(images)\n",
    "        # latents_org = (latents_org - avg_glo.view(1, -1, 1, 1)) / (std_glo.view(1, -1, 1, 1) + 1e-6)\n",
    "        # TODO:\n",
    "        start_t = torch.tensor([start_idx] * len(images), device=device, dtype=torch.long)\n",
    "        if start_idx > 0:\n",
    "            latents_org = model.q_sample(\n",
    "                latents_org,\n",
    "                start_t,\n",
    "            )\n",
    "        # labels = None\n",
    "        latents_last = model.ddim_reverse_sample(\n",
    "            latents_org, start_t, labels, eta=0.0\n",
    "        )\n",
    "        # latents_last = latents_org\n",
    "    e_t = time.time()\n",
    "    lts.append(e_t - s_t)\n",
    "    latents_last_l2 = torch.sum(latents_last ** 2, dim=1).sqrt()  # (bs, h, w)\n",
    "    ats = torch.abs(latents_last_l2 - torch.sqrt(torch.tensor([num_dims], device=device, dtype=torch.float32)))  # (bs, h, w)\n",
    "    min_ats_spatial = ats.view(ats.shape[0], -1).min(dim=1)[0]  # (bs, )\n",
    "    max_ats_spatial = ats.view(ats.shape[0], -1).max(dim=1)[0]  # (bs, )\n",
    "    ats = torch.abs(min_ats_spatial - max_ats_spatial)  # (bs, )\n",
    "    nll = calculate_log_pdf(latents_last.cpu()) * -1\n",
    "    normal_nlls.extend(nll)\n",
    "    # ats = torch.std(ats.view(ats.shape[0], -1), dim=1)\n",
    "    # ats = ats.mean(dim=(1, 2))\n",
    "    \n",
    "    normal_ats.extend(ats.cpu().numpy())\n",
    "print(f\"Average Latency: {np.mean(lts)}[s] for batch size {bs}\")"
   ]
  },
  {
   "cell_type": "code",
   "execution_count": 102,
   "metadata": {},
   "outputs": [
    {
     "name": "stderr",
     "output_type": "stream",
     "text": [
      "100%|██████████| 12/12 [00:02<00:00,  4.83it/s]\n"
     ]
    }
   ],
   "source": [
    "\n",
    "anomaly_ats = []\n",
    "anomaly_nlls = []\n",
    "for batch in tqdm(anom_dataloader):\n",
    "    images = batch[\"samples\"].to(device)\n",
    "    labels = batch[\"clslabels\"].to(device)\n",
    "    \n",
    "    with torch.no_grad():\n",
    "        latents_org, _ = feature_extractor(images)\n",
    "        # latents_org = (latents_org - avg_glo.view(1, -1, 1, 1)) / (std_glo.view(1, -1, 1, 1) + 1e-6)\n",
    "        start_t = torch.tensor([start_idx] * len(images), device=device, dtype=torch.long)\n",
    "        if start_idx > 0:\n",
    "            latents_org = model.q_sample(\n",
    "                latents_org,\n",
    "                start_t,\n",
    "            )\n",
    "        # TODO:\n",
    "        # labels = None\n",
    "        latents_last = model.ddim_reverse_sample(\n",
    "            latents_org, start_t, labels, eta=0.0\n",
    "        )\n",
    "        # latents_last = latents_org\n",
    "    latents_last_l2 = torch.sum(latents_last ** 2, dim=1).sqrt()  # (bs, h, w)\n",
    "    ats = torch.abs(latents_last_l2 - torch.sqrt(torch.tensor([num_dims], device=device, dtype=torch.float32)))  # (bs, h, w)\n",
    "    min_ats_spatial = ats.view(ats.shape[0], -1).min(dim=1)[0]  # (bs, )\n",
    "    max_ats_spatial = ats.view(ats.shape[0], -1).max(dim=1)[0]  # (bs, )\n",
    "    ats = torch.abs(min_ats_spatial - max_ats_spatial)  # (bs, )\n",
    "    nll = calculate_log_pdf(latents_last.cpu()) * -1\n",
    "    anomaly_nlls.extend(nll)\n",
    "    # ats = torch.std(ats.view(ats.shape[0], -1), dim=1)  # (bs, )\n",
    "    anomaly_ats.extend(ats.cpu().numpy())"
   ]
  },
  {
   "cell_type": "code",
   "execution_count": 103,
   "metadata": {},
   "outputs": [],
   "source": [
    "normal_ats = np.array(normal_ats)\n",
    "anomaly_ats = np.array(anomaly_ats)\n",
    "normal_nlls = np.array(normal_nlls)\n",
    "anomaly_nlls = np.array(anomaly_nlls)\n",
    "\n",
    "ats_min = np.min([normal_ats.min(), anomaly_ats.min()])\n",
    "ats_max = np.max([normal_ats.max(), anomaly_ats.max()])\n",
    "nlls_min = np.min([normal_nlls.min(), anomaly_nlls.min()])\n",
    "nlls_max = np.max([normal_nlls.max(), anomaly_nlls.max()])\n",
    "\n",
    "# normalize\n",
    "normal_ats = (normal_ats - ats_min) / (ats_max - ats_min)\n",
    "anomaly_ats = (anomaly_ats - ats_min) / (ats_max - ats_min)\n",
    "normal_nlls = (normal_nlls - nlls_min) / (nlls_max - nlls_min)\n",
    "anomaly_nlls = (anomaly_nlls - nlls_min) / (nlls_max - nlls_min)\n",
    "\n",
    "normal_scores = normal_ats + normal_nlls\n",
    "anomaly_scores = anomaly_ats + anomaly_nlls"
   ]
  },
  {
   "cell_type": "code",
   "execution_count": 104,
   "metadata": {},
   "outputs": [
    {
     "data": {
      "image/png": "[encoded data removed]",
      "text/plain": [
       "<Figure size 1500x500 with 3 Axes>"
      ]
     },
     "metadata": {},
     "output_type": "display_data"
    }
   ],
   "source": [
    "fig, ax = plt.subplots(1, 3, figsize=(15, 5))\n",
    "ax[0].hist(normal_ats, bins=100, alpha=0.5, label=\"normal\")\n",
    "ax[0].hist(anomaly_ats, bins=100, alpha=0.5, label=\"anom\")\n",
    "ax[0].legend()\n",
    "ax[0].set_title(\"ATS\")\n",
    "\n",
    "ax[1].hist(normal_nlls, bins=100, alpha=0.5, label=\"normal\")\n",
    "ax[1].hist(anomaly_nlls, bins=100, alpha=0.5, label=\"anom\")\n",
    "ax[1].legend()\n",
    "ax[1].set_title(\"NLL\")\n",
    "\n",
    "ax[2].hist(normal_scores, bins=100, alpha=0.5, label=\"normal\")\n",
    "ax[2].hist(anomaly_scores, bins=100, alpha=0.5, label=\"anom\")\n",
    "ax[2].legend()\n",
    "ax[2].set_title(\"Scores\")\n",
    "\n",
    "plt.show()"
   ]
  },
  {
   "cell_type": "code",
   "execution_count": null,
   "metadata": {},
   "outputs": [
    {
     "data": {
      "image/png": "[encoded data removed]",
      "text/plain": [
       "<Figure size 640x480 with 1 Axes>"
      ]
     },
     "metadata": {},
     "output_type": "display_data"
    },
    {
     "ename": "",
     "evalue": "",
     "output_type": "error",
     "traceback": [
      "\u001b[1;31mThe Kernel crashed while executing code in the current cell or a previous cell. \n",
      "\u001b[1;31mPlease review the code in the cell(s) to identify a possible cause of the failure. \n",
      "\u001b[1;31mClick <a href='https://aka.ms/vscodeJupyterKernelCrash'>here</a> for more info. \n",
      "\u001b[1;31mView Jupyter <a href='command:jupyter.viewOutput'>log</a> for further details."
     ]
    }
   ],
   "source": [
    "# Calculate ROC curve\n",
    "from sklearn.metrics import roc_curve, roc_auc_score\n",
    "y_true = np.concatenate([np.zeros(len(normal_scores)), np.ones(len(anomaly_scores))])\n",
    "y_score = np.concatenate([normal_scores, anomaly_scores])\n",
    "\n",
    "fpr, tpr, _ = roc_curve(y_true, y_score)\n",
    "roc_auc = roc_auc_score(y_true, y_score)\n",
    "\n",
    "fig, ax = plt.subplots()\n",
    "ax.plot(fpr, tpr, label=f\"ROC curve (area = {roc_auc:.3f})\")\n",
    "ax.plot([0, 1], [0, 1], linestyle=\"--\")\n",
    "ax.set_xlabel(\"False Positive Rate\")\n",
    "ax.set_ylabel(\"True Positive Rate\")\n",
    "ax.legend()\n",
    "plt.show()"
   ]
  },
  {
   "cell_type": "code",
   "execution_count": null,
   "metadata": {},
   "outputs": [
    {
     "name": "stderr",
     "output_type": "stream",
     "text": [
      "100%|██████████| 13/13 [00:01<00:00,  7.95it/s]\n",
      " 62%|██████▏   | 8/13 [00:01<00:00,  6.01it/s]\n"
     ]
    },
    {
     "ename": "KeyboardInterrupt",
     "evalue": "",
     "output_type": "error",
     "traceback": [
      "\u001b[0;31m---------------------------------------------------------------------------\u001b[0m",
      "\u001b[0;31mKeyboardInterrupt\u001b[0m                         Traceback (most recent call last)",
      "Cell \u001b[0;32mIn[84], line 39\u001b[0m\n\u001b[1;32m     37\u001b[0m labels \u001b[38;5;241m=\u001b[39m batch[\u001b[38;5;124m\"\u001b[39m\u001b[38;5;124mclslabels\u001b[39m\u001b[38;5;124m\"\u001b[39m]\u001b[38;5;241m.\u001b[39mto(device)\n\u001b[1;32m     38\u001b[0m \u001b[38;5;28;01mwith\u001b[39;00m torch\u001b[38;5;241m.\u001b[39mno_grad():\n\u001b[0;32m---> 39\u001b[0m     latents_org, _ \u001b[38;5;241m=\u001b[39m \u001b[43mfeature_extractor\u001b[49m\u001b[43m(\u001b[49m\u001b[43mimages\u001b[49m\u001b[43m)\u001b[49m\n\u001b[1;32m     40\u001b[0m     latents_org \u001b[38;5;241m=\u001b[39m (latents_org \u001b[38;5;241m-\u001b[39m avg_glo\u001b[38;5;241m.\u001b[39mview(\u001b[38;5;241m1\u001b[39m, \u001b[38;5;241m-\u001b[39m\u001b[38;5;241m1\u001b[39m, \u001b[38;5;241m1\u001b[39m, \u001b[38;5;241m1\u001b[39m)) \u001b[38;5;241m/\u001b[39m (std_glo\u001b[38;5;241m.\u001b[39mview(\u001b[38;5;241m1\u001b[39m, \u001b[38;5;241m-\u001b[39m\u001b[38;5;241m1\u001b[39m, \u001b[38;5;241m1\u001b[39m, \u001b[38;5;241m1\u001b[39m) \u001b[38;5;241m+\u001b[39m \u001b[38;5;241m1e-6\u001b[39m)\n\u001b[1;32m     41\u001b[0m     labels \u001b[38;5;241m=\u001b[39m \u001b[38;5;28;01mNone\u001b[39;00m\n",
      "File \u001b[0;32m~/anaconda3/envs/anomar/lib/python3.12/site-packages/torch/nn/modules/module.py:1736\u001b[0m, in \u001b[0;36mModule._wrapped_call_impl\u001b[0;34m(self, *args, **kwargs)\u001b[0m\n\u001b[1;32m   1734\u001b[0m     \u001b[38;5;28;01mreturn\u001b[39;00m \u001b[38;5;28mself\u001b[39m\u001b[38;5;241m.\u001b[39m_compiled_call_impl(\u001b[38;5;241m*\u001b[39margs, \u001b[38;5;241m*\u001b[39m\u001b[38;5;241m*\u001b[39mkwargs)  \u001b[38;5;66;03m# type: ignore[misc]\u001b[39;00m\n\u001b[1;32m   1735\u001b[0m \u001b[38;5;28;01melse\u001b[39;00m:\n\u001b[0;32m-> 1736\u001b[0m     \u001b[38;5;28;01mreturn\u001b[39;00m \u001b[38;5;28;43mself\u001b[39;49m\u001b[38;5;241;43m.\u001b[39;49m\u001b[43m_call_impl\u001b[49m\u001b[43m(\u001b[49m\u001b[38;5;241;43m*\u001b[39;49m\u001b[43margs\u001b[49m\u001b[43m,\u001b[49m\u001b[43m \u001b[49m\u001b[38;5;241;43m*\u001b[39;49m\u001b[38;5;241;43m*\u001b[39;49m\u001b[43mkwargs\u001b[49m\u001b[43m)\u001b[49m\n",
      "File \u001b[0;32m~/anaconda3/envs/anomar/lib/python3.12/site-packages/torch/nn/modules/module.py:1747\u001b[0m, in \u001b[0;36mModule._call_impl\u001b[0;34m(self, *args, **kwargs)\u001b[0m\n\u001b[1;32m   1742\u001b[0m \u001b[38;5;66;03m# If we don't have any hooks, we want to skip the rest of the logic in\u001b[39;00m\n\u001b[1;32m   1743\u001b[0m \u001b[38;5;66;03m# this function, and just call forward.\u001b[39;00m\n\u001b[1;32m   1744\u001b[0m \u001b[38;5;28;01mif\u001b[39;00m \u001b[38;5;129;01mnot\u001b[39;00m (\u001b[38;5;28mself\u001b[39m\u001b[38;5;241m.\u001b[39m_backward_hooks \u001b[38;5;129;01mor\u001b[39;00m \u001b[38;5;28mself\u001b[39m\u001b[38;5;241m.\u001b[39m_backward_pre_hooks \u001b[38;5;129;01mor\u001b[39;00m \u001b[38;5;28mself\u001b[39m\u001b[38;5;241m.\u001b[39m_forward_hooks \u001b[38;5;129;01mor\u001b[39;00m \u001b[38;5;28mself\u001b[39m\u001b[38;5;241m.\u001b[39m_forward_pre_hooks\n\u001b[1;32m   1745\u001b[0m         \u001b[38;5;129;01mor\u001b[39;00m _global_backward_pre_hooks \u001b[38;5;129;01mor\u001b[39;00m _global_backward_hooks\n\u001b[1;32m   1746\u001b[0m         \u001b[38;5;129;01mor\u001b[39;00m _global_forward_hooks \u001b[38;5;129;01mor\u001b[39;00m _global_forward_pre_hooks):\n\u001b[0;32m-> 1747\u001b[0m     \u001b[38;5;28;01mreturn\u001b[39;00m \u001b[43mforward_call\u001b[49m\u001b[43m(\u001b[49m\u001b[38;5;241;43m*\u001b[39;49m\u001b[43margs\u001b[49m\u001b[43m,\u001b[49m\u001b[43m \u001b[49m\u001b[38;5;241;43m*\u001b[39;49m\u001b[38;5;241;43m*\u001b[39;49m\u001b[43mkwargs\u001b[49m\u001b[43m)\u001b[49m\n\u001b[1;32m   1749\u001b[0m result \u001b[38;5;241m=\u001b[39m \u001b[38;5;28;01mNone\u001b[39;00m\n\u001b[1;32m   1750\u001b[0m called_always_called_hooks \u001b[38;5;241m=\u001b[39m \u001b[38;5;28mset\u001b[39m()\n",
      "File \u001b[0;32m/hdd/haselab/AnoMAR/src/backbones/__init__.py:205\u001b[0m, in \u001b[0;36mBackboneWrapper.forward\u001b[0;34m(self, x)\u001b[0m\n\u001b[1;32m    203\u001b[0m \u001b[38;5;28;01mdef\u001b[39;00m \u001b[38;5;21mforward\u001b[39m(\u001b[38;5;28mself\u001b[39m, x):\n\u001b[0;32m--> 205\u001b[0m     out \u001b[38;5;241m=\u001b[39m \u001b[38;5;28;43mself\u001b[39;49m\u001b[38;5;241;43m.\u001b[39;49m\u001b[43mbackbone\u001b[49m\u001b[43m(\u001b[49m\u001b[43mx\u001b[49m\u001b[43m)\u001b[49m\n\u001b[1;32m    206\u001b[0m     \u001b[38;5;28;01mif\u001b[39;00m \u001b[38;5;28misinstance\u001b[39m(out, \u001b[38;5;28mdict\u001b[39m):\n\u001b[1;32m    207\u001b[0m         y \u001b[38;5;241m=\u001b[39m out[\u001b[38;5;124m\"\u001b[39m\u001b[38;5;124mfeatures\u001b[39m\u001b[38;5;124m\"\u001b[39m]\n",
      "File \u001b[0;32m~/anaconda3/envs/anomar/lib/python3.12/site-packages/torch/nn/modules/module.py:1736\u001b[0m, in \u001b[0;36mModule._wrapped_call_impl\u001b[0;34m(self, *args, **kwargs)\u001b[0m\n\u001b[1;32m   1734\u001b[0m     \u001b[38;5;28;01mreturn\u001b[39;00m \u001b[38;5;28mself\u001b[39m\u001b[38;5;241m.\u001b[39m_compiled_call_impl(\u001b[38;5;241m*\u001b[39margs, \u001b[38;5;241m*\u001b[39m\u001b[38;5;241m*\u001b[39mkwargs)  \u001b[38;5;66;03m# type: ignore[misc]\u001b[39;00m\n\u001b[1;32m   1735\u001b[0m \u001b[38;5;28;01melse\u001b[39;00m:\n\u001b[0;32m-> 1736\u001b[0m     \u001b[38;5;28;01mreturn\u001b[39;00m \u001b[38;5;28;43mself\u001b[39;49m\u001b[38;5;241;43m.\u001b[39;49m\u001b[43m_call_impl\u001b[49m\u001b[43m(\u001b[49m\u001b[38;5;241;43m*\u001b[39;49m\u001b[43margs\u001b[49m\u001b[43m,\u001b[49m\u001b[43m \u001b[49m\u001b[38;5;241;43m*\u001b[39;49m\u001b[38;5;241;43m*\u001b[39;49m\u001b[43mkwargs\u001b[49m\u001b[43m)\u001b[49m\n",
      "File \u001b[0;32m~/anaconda3/envs/anomar/lib/python3.12/site-packages/torch/nn/modules/module.py:1747\u001b[0m, in \u001b[0;36mModule._call_impl\u001b[0;34m(self, *args, **kwargs)\u001b[0m\n\u001b[1;32m   1742\u001b[0m \u001b[38;5;66;03m# If we don't have any hooks, we want to skip the rest of the logic in\u001b[39;00m\n\u001b[1;32m   1743\u001b[0m \u001b[38;5;66;03m# this function, and just call forward.\u001b[39;00m\n\u001b[1;32m   1744\u001b[0m \u001b[38;5;28;01mif\u001b[39;00m \u001b[38;5;129;01mnot\u001b[39;00m (\u001b[38;5;28mself\u001b[39m\u001b[38;5;241m.\u001b[39m_backward_hooks \u001b[38;5;129;01mor\u001b[39;00m \u001b[38;5;28mself\u001b[39m\u001b[38;5;241m.\u001b[39m_backward_pre_hooks \u001b[38;5;129;01mor\u001b[39;00m \u001b[38;5;28mself\u001b[39m\u001b[38;5;241m.\u001b[39m_forward_hooks \u001b[38;5;129;01mor\u001b[39;00m \u001b[38;5;28mself\u001b[39m\u001b[38;5;241m.\u001b[39m_forward_pre_hooks\n\u001b[1;32m   1745\u001b[0m         \u001b[38;5;129;01mor\u001b[39;00m _global_backward_pre_hooks \u001b[38;5;129;01mor\u001b[39;00m _global_backward_hooks\n\u001b[1;32m   1746\u001b[0m         \u001b[38;5;129;01mor\u001b[39;00m _global_forward_hooks \u001b[38;5;129;01mor\u001b[39;00m _global_forward_pre_hooks):\n\u001b[0;32m-> 1747\u001b[0m     \u001b[38;5;28;01mreturn\u001b[39;00m \u001b[43mforward_call\u001b[49m\u001b[43m(\u001b[49m\u001b[38;5;241;43m*\u001b[39;49m\u001b[43margs\u001b[49m\u001b[43m,\u001b[49m\u001b[43m \u001b[49m\u001b[38;5;241;43m*\u001b[39;49m\u001b[38;5;241;43m*\u001b[39;49m\u001b[43mkwargs\u001b[49m\u001b[43m)\u001b[49m\n\u001b[1;32m   1749\u001b[0m result \u001b[38;5;241m=\u001b[39m \u001b[38;5;28;01mNone\u001b[39;00m\n\u001b[1;32m   1750\u001b[0m called_always_called_hooks \u001b[38;5;241m=\u001b[39m \u001b[38;5;28mset\u001b[39m()\n",
      "File \u001b[0;32m/hdd/haselab/AnoMAR/src/backbones/efficientnet.py:373\u001b[0m, in \u001b[0;36mEfficientNet.forward\u001b[0;34m(self, inputs)\u001b[0m\n\u001b[1;32m    363\u001b[0m \u001b[38;5;250m\u001b[39m\u001b[38;5;124;03m\"\"\"EfficientNet's forward function.\u001b[39;00m\n\u001b[1;32m    364\u001b[0m \u001b[38;5;124;03m   Calls extract_features to extract features, applies final linear layer, and returns logits.\u001b[39;00m\n\u001b[1;32m    365\u001b[0m \n\u001b[0;32m   (...)\u001b[0m\n\u001b[1;32m    370\u001b[0m \u001b[38;5;124;03m    Output of this model after processing.\u001b[39;00m\n\u001b[1;32m    371\u001b[0m \u001b[38;5;124;03m\"\"\"\u001b[39;00m\n\u001b[1;32m    372\u001b[0m \u001b[38;5;66;03m# Convolution layers\u001b[39;00m\n\u001b[0;32m--> 373\u001b[0m x, feat_dict, _ \u001b[38;5;241m=\u001b[39m \u001b[38;5;28;43mself\u001b[39;49m\u001b[38;5;241;43m.\u001b[39;49m\u001b[43mextract_features\u001b[49m\u001b[43m(\u001b[49m\u001b[43minputs\u001b[49m\u001b[43m)\u001b[49m\n\u001b[1;32m    374\u001b[0m \u001b[38;5;66;03m# Pooling and final linear layer\u001b[39;00m\n\u001b[1;32m    375\u001b[0m x \u001b[38;5;241m=\u001b[39m \u001b[38;5;28mself\u001b[39m\u001b[38;5;241m.\u001b[39m_avg_pooling(x)\n",
      "File \u001b[0;32m/hdd/haselab/AnoMAR/src/backbones/efficientnet.py:352\u001b[0m, in \u001b[0;36mEfficientNet.extract_features\u001b[0;34m(self, inputs)\u001b[0m\n\u001b[1;32m    348\u001b[0m \u001b[38;5;28;01mif\u001b[39;00m drop_connect_rate:\n\u001b[1;32m    349\u001b[0m     drop_connect_rate \u001b[38;5;241m*\u001b[39m\u001b[38;5;241m=\u001b[39m \u001b[38;5;28mfloat\u001b[39m(idx) \u001b[38;5;241m/\u001b[39m \u001b[38;5;28mlen\u001b[39m(\n\u001b[1;32m    350\u001b[0m         \u001b[38;5;28mself\u001b[39m\u001b[38;5;241m.\u001b[39m_blocks\n\u001b[1;32m    351\u001b[0m     )  \u001b[38;5;66;03m# scale drop connect_rate\u001b[39;00m\n\u001b[0;32m--> 352\u001b[0m x \u001b[38;5;241m=\u001b[39m \u001b[43mblock\u001b[49m\u001b[43m(\u001b[49m\u001b[43mx\u001b[49m\u001b[43m,\u001b[49m\u001b[43m \u001b[49m\u001b[43mdrop_connect_rate\u001b[49m\u001b[38;5;241;43m=\u001b[39;49m\u001b[43mdrop_connect_rate\u001b[49m\u001b[43m)\u001b[49m\n\u001b[1;32m    353\u001b[0m \u001b[38;5;66;03m##############################################################\u001b[39;00m\n\u001b[1;32m    354\u001b[0m feat_dict[idx] \u001b[38;5;241m=\u001b[39m x\n",
      "File \u001b[0;32m~/anaconda3/envs/anomar/lib/python3.12/site-packages/torch/nn/modules/module.py:1736\u001b[0m, in \u001b[0;36mModule._wrapped_call_impl\u001b[0;34m(self, *args, **kwargs)\u001b[0m\n\u001b[1;32m   1734\u001b[0m     \u001b[38;5;28;01mreturn\u001b[39;00m \u001b[38;5;28mself\u001b[39m\u001b[38;5;241m.\u001b[39m_compiled_call_impl(\u001b[38;5;241m*\u001b[39margs, \u001b[38;5;241m*\u001b[39m\u001b[38;5;241m*\u001b[39mkwargs)  \u001b[38;5;66;03m# type: ignore[misc]\u001b[39;00m\n\u001b[1;32m   1735\u001b[0m \u001b[38;5;28;01melse\u001b[39;00m:\n\u001b[0;32m-> 1736\u001b[0m     \u001b[38;5;28;01mreturn\u001b[39;00m \u001b[38;5;28;43mself\u001b[39;49m\u001b[38;5;241;43m.\u001b[39;49m\u001b[43m_call_impl\u001b[49m\u001b[43m(\u001b[49m\u001b[38;5;241;43m*\u001b[39;49m\u001b[43margs\u001b[49m\u001b[43m,\u001b[49m\u001b[43m \u001b[49m\u001b[38;5;241;43m*\u001b[39;49m\u001b[38;5;241;43m*\u001b[39;49m\u001b[43mkwargs\u001b[49m\u001b[43m)\u001b[49m\n",
      "File \u001b[0;32m~/anaconda3/envs/anomar/lib/python3.12/site-packages/torch/nn/modules/module.py:1747\u001b[0m, in \u001b[0;36mModule._call_impl\u001b[0;34m(self, *args, **kwargs)\u001b[0m\n\u001b[1;32m   1742\u001b[0m \u001b[38;5;66;03m# If we don't have any hooks, we want to skip the rest of the logic in\u001b[39;00m\n\u001b[1;32m   1743\u001b[0m \u001b[38;5;66;03m# this function, and just call forward.\u001b[39;00m\n\u001b[1;32m   1744\u001b[0m \u001b[38;5;28;01mif\u001b[39;00m \u001b[38;5;129;01mnot\u001b[39;00m (\u001b[38;5;28mself\u001b[39m\u001b[38;5;241m.\u001b[39m_backward_hooks \u001b[38;5;129;01mor\u001b[39;00m \u001b[38;5;28mself\u001b[39m\u001b[38;5;241m.\u001b[39m_backward_pre_hooks \u001b[38;5;129;01mor\u001b[39;00m \u001b[38;5;28mself\u001b[39m\u001b[38;5;241m.\u001b[39m_forward_hooks \u001b[38;5;129;01mor\u001b[39;00m \u001b[38;5;28mself\u001b[39m\u001b[38;5;241m.\u001b[39m_forward_pre_hooks\n\u001b[1;32m   1745\u001b[0m         \u001b[38;5;129;01mor\u001b[39;00m _global_backward_pre_hooks \u001b[38;5;129;01mor\u001b[39;00m _global_backward_hooks\n\u001b[1;32m   1746\u001b[0m         \u001b[38;5;129;01mor\u001b[39;00m _global_forward_hooks \u001b[38;5;129;01mor\u001b[39;00m _global_forward_pre_hooks):\n\u001b[0;32m-> 1747\u001b[0m     \u001b[38;5;28;01mreturn\u001b[39;00m \u001b[43mforward_call\u001b[49m\u001b[43m(\u001b[49m\u001b[38;5;241;43m*\u001b[39;49m\u001b[43margs\u001b[49m\u001b[43m,\u001b[49m\u001b[43m \u001b[49m\u001b[38;5;241;43m*\u001b[39;49m\u001b[38;5;241;43m*\u001b[39;49m\u001b[43mkwargs\u001b[49m\u001b[43m)\u001b[49m\n\u001b[1;32m   1749\u001b[0m result \u001b[38;5;241m=\u001b[39m \u001b[38;5;28;01mNone\u001b[39;00m\n\u001b[1;32m   1750\u001b[0m called_always_called_hooks \u001b[38;5;241m=\u001b[39m \u001b[38;5;28mset\u001b[39m()\n",
      "File \u001b[0;32m/hdd/haselab/AnoMAR/src/backbones/efficientnet.py:141\u001b[0m, in \u001b[0;36mMBConvBlock.forward\u001b[0;34m(self, inputs, drop_connect_rate)\u001b[0m\n\u001b[1;32m    138\u001b[0m     x \u001b[38;5;241m=\u001b[39m torch\u001b[38;5;241m.\u001b[39msigmoid(x_squeezed) \u001b[38;5;241m*\u001b[39m x\n\u001b[1;32m    140\u001b[0m \u001b[38;5;66;03m# Pointwise Convolution\u001b[39;00m\n\u001b[0;32m--> 141\u001b[0m x \u001b[38;5;241m=\u001b[39m \u001b[38;5;28;43mself\u001b[39;49m\u001b[38;5;241;43m.\u001b[39;49m\u001b[43m_project_conv\u001b[49m(x)\n\u001b[1;32m    142\u001b[0m x \u001b[38;5;241m=\u001b[39m \u001b[38;5;28mself\u001b[39m\u001b[38;5;241m.\u001b[39m_bn2(x)\n\u001b[1;32m    144\u001b[0m \u001b[38;5;66;03m# Skip connection and drop connect\u001b[39;00m\n",
      "File \u001b[0;32m~/anaconda3/envs/anomar/lib/python3.12/site-packages/torch/nn/modules/module.py:1918\u001b[0m, in \u001b[0;36mModule.__getattr__\u001b[0;34m(self, name)\u001b[0m\n\u001b[1;32m   1909\u001b[0m         \u001b[38;5;28mself\u001b[39m\u001b[38;5;241m.\u001b[39m_backward_pre_hooks \u001b[38;5;241m=\u001b[39m OrderedDict()\n\u001b[1;32m   1911\u001b[0m \u001b[38;5;66;03m# On the return type:\u001b[39;00m\n\u001b[1;32m   1912\u001b[0m \u001b[38;5;66;03m# We choose to return `Any` in the `__getattr__` type signature instead of a more strict `Union[Tensor, Module]`.\u001b[39;00m\n\u001b[1;32m   1913\u001b[0m \u001b[38;5;66;03m# This is done for better interop with various type checkers for the end users.\u001b[39;00m\n\u001b[0;32m   (...)\u001b[0m\n\u001b[1;32m   1916\u001b[0m \u001b[38;5;66;03m# See full discussion on the problems with returning `Union` here\u001b[39;00m\n\u001b[1;32m   1917\u001b[0m \u001b[38;5;66;03m# https://github.com/microsoft/pyright/issues/4213\u001b[39;00m\n\u001b[0;32m-> 1918\u001b[0m \u001b[38;5;28;01mdef\u001b[39;00m \u001b[38;5;21m__getattr__\u001b[39m(\u001b[38;5;28mself\u001b[39m, name: \u001b[38;5;28mstr\u001b[39m) \u001b[38;5;241m-\u001b[39m\u001b[38;5;241m>\u001b[39m Any:\n\u001b[1;32m   1919\u001b[0m     \u001b[38;5;28;01mif\u001b[39;00m \u001b[38;5;124m\"\u001b[39m\u001b[38;5;124m_parameters\u001b[39m\u001b[38;5;124m\"\u001b[39m \u001b[38;5;129;01min\u001b[39;00m \u001b[38;5;28mself\u001b[39m\u001b[38;5;241m.\u001b[39m\u001b[38;5;18m__dict__\u001b[39m:\n\u001b[1;32m   1920\u001b[0m         _parameters \u001b[38;5;241m=\u001b[39m \u001b[38;5;28mself\u001b[39m\u001b[38;5;241m.\u001b[39m\u001b[38;5;18m__dict__\u001b[39m[\u001b[38;5;124m\"\u001b[39m\u001b[38;5;124m_parameters\u001b[39m\u001b[38;5;124m\"\u001b[39m]\n",
      "\u001b[0;31mKeyboardInterrupt\u001b[0m: "
     ]
    }
   ],
   "source": [
    "# Combined different timescale scores\n",
    "timesteps = [2, 3, 5]\n",
    "\n",
    "normal_scores = np.zeros(len(normal_dataset))\n",
    "anomaly_scores = np.zeros(len(anom_dataset))\n",
    "\n",
    "for t in timesteps:\n",
    "    model = init_denoiser(t, device, config, mim_in_sh, ckpt_path)\n",
    "    normal_ats = []\n",
    "    normal_nlls = []\n",
    "    for batch in tqdm(normal_dataloader):\n",
    "        images = batch[\"samples\"].to(device)\n",
    "        labels = batch[\"clslabels\"].to(device)\n",
    "        with torch.no_grad():\n",
    "            latents_org, _ = feature_extractor(images)\n",
    "            latents_org = (latents_org - avg_glo.view(1, -1, 1, 1)) / (std_glo.view(1, -1, 1, 1) + 1e-6)\n",
    "            labels = None\n",
    "            latents_last = model.ddim_reverse_sample(\n",
    "                latents_org, start_t, labels, eta=0.0\n",
    "            )\n",
    "        latents_last_l2 = torch.sum(latents_last ** 2, dim=1).sqrt()\n",
    "        ats = torch.abs(latents_last_l2 - torch.sqrt(torch.tensor([num_dims], device=device, dtype=torch.float32)))\n",
    "        min_ats_spatial = ats.view(ats.shape[0], -1).min(dim=1)[0]\n",
    "        max_ats_spatial = ats.view(ats.shape[0], -1).max(dim=1)[0]\n",
    "        \n",
    "        ats = torch.abs(min_ats_spatial - max_ats_spatial)\n",
    "        nll = calculate_log_pdf(latents_last.cpu()) * -1\n",
    "        normal_nlls.extend(nll)\n",
    "        normal_ats.extend(ats.cpu().numpy())\n",
    "    normal_ats = np.array(normal_ats)\n",
    "    normal_nlls = np.array(normal_nlls)\n",
    "\n",
    "    anomaly_ats = []\n",
    "    anomaly_nlls = []\n",
    "    for batch in tqdm(anom_dataloader):\n",
    "        images = batch[\"samples\"].to(device)\n",
    "        labels = batch[\"clslabels\"].to(device)\n",
    "        with torch.no_grad():\n",
    "            latents_org, _ = feature_extractor(images)\n",
    "            latents_org = (latents_org - avg_glo.view(1, -1, 1, 1)) / (std_glo.view(1, -1, 1, 1) + 1e-6)\n",
    "            labels = None\n",
    "            latents_last = model.ddim_reverse_sample(\n",
    "                latents_org, start_t, labels, eta=0.0\n",
    "            )\n",
    "        latents_last_l2 = torch.sum(latents_last ** 2, dim=1).sqrt()\n",
    "        ats = torch.abs(latents_last_l2 - torch.sqrt(torch.tensor([num_dims], device=device, dtype=torch.float32)))\n",
    "        min_ats_spatial = ats.view(ats.shape[0], -1).min(dim=1)[0]\n",
    "        max_ats_spatial = ats.view(ats.shape[0], -1).max(dim=1)[0]\n",
    "        ats = torch.abs(min_ats_spatial - max_ats_spatial)\n",
    "        nll = calculate_log_pdf(latents_last.cpu()) * -1\n",
    "        anomaly_nlls.extend(nll)\n",
    "        anomaly_ats.extend(ats.cpu().numpy())\n",
    "    \n",
    "    anomaly_ats = np.array(anomaly_ats)\n",
    "    anomaly_nlls = np.array(anomaly_nlls)\n",
    "\n",
    "    ats_min = np.min([normal_ats.min(), anomaly_ats.min()])\n",
    "    ats_max = np.max([normal_ats.max(), anomaly_ats.max()])\n",
    "    nlls_min = np.min([normal_nlls.min(), anomaly_nlls.min()])\n",
    "    nlls_max = np.max([normal_nlls.max(), anomaly_nlls.max()])\n",
    "    \n",
    "    normal_ats = (normal_ats - ats_min) / (ats_max - ats_min)\n",
    "    normal_nlls = (normal_nlls - nlls_min) / (nlls_max - nlls_min)\n",
    "    anomaly_ats = (anomaly_ats - ats_min) / (ats_max - ats_min)\n",
    "    anomaly_nlls = (anomaly_nlls - nlls_min) / (nlls_max - nlls_min)\n",
    "    \n",
    "    normal_scores += normal_ats + normal_nlls\n",
    "    anomaly_scores += anomaly_ats + anomaly_nlls\n",
    "\n",
    "normal_scores /= len(timesteps)\n",
    "anomaly_scores /= len(timesteps)\n",
    "\n",
    "# Calculate ROC curve\n",
    "from sklearn.metrics import roc_curve, roc_auc_score\n",
    "y_true = np.concatenate([np.zeros(len(normal_scores)), np.ones(len(anomaly_scores))])\n",
    "y_score = np.concatenate([normal_scores, anomaly_scores])\n",
    "\n",
    "fpr, tpr, _ = roc_curve(y_true, y_score)\n",
    "roc_auc = roc_auc_score(y_true, y_score)\n",
    "\n",
    "fig, ax = plt.subplots()\n",
    "ax.plot(fpr, tpr, label=f\"ROC curve (area = {roc_auc:.3f})\")\n",
    "ax.plot([0, 1], [0, 1], linestyle=\"--\")\n",
    "ax.set_xlabel(\"False Positive Rate\")\n",
    "ax.set_ylabel(\"True Positive Rate\")\n",
    "ax.legend()\n",
    "plt.show()\n",
    "        "
   ]
  },
  {
   "cell_type": "markdown",
   "metadata": {},
   "source": [
    "### Masked Anomaly Score Prediction"
   ]
  },
  {
   "cell_type": "code",
   "execution_count": null,
   "metadata": {},
   "outputs": [
    {
     "data": {
      "text/plain": [
       "torch.Size([7, 16, 16])"
      ]
     },
     "execution_count": 1645,
     "metadata": {},
     "output_type": "execute_result"
    }
   ],
   "source": [
    "p = 0.5\n",
    "p_ = torch.ones_like(latents_last) * p\n",
    "masks = torch.bernoulli(p_)\n",
    "\n",
    "latents_last_masked = latents_last * masks\n",
    "latents_last_masked = latents_last_masked / p\n",
    "latents_last_masked_l2 = torch.sum(latents_last_masked ** 2, dim=1).sqrt()  # (bs, h, w)\n",
    "\n",
    "ats = torch.abs(latents_last_masked_l2 - torch.sqrt(torch.tensor([num_dims], device=device, dtype=torch.float32)))  # (bs, h, w)\n",
    "\n"
   ]
  },
  {
   "cell_type": "markdown",
   "metadata": {},
   "source": [
    "## ヤコビアン補正"
   ]
  },
  {
   "cell_type": "code",
   "execution_count": 34,
   "metadata": {},
   "outputs": [],
   "source": [
    "def image_to_x0(image, feature_extractor, avg_glo, std_glo):\n",
    "    with torch.no_grad():\n",
    "        x, _ = feature_extractor(image)\n",
    "        x = (x - avg_glo[None, :, None, None]) / (std_glo[None, :, None, None] + 1e-6)\n",
    "    return x\n",
    "\n",
    "def calculate_log_pdf(x):\n",
    "    ll = -0.5 * (x ** 2 + np.log(2 * np.pi))\n",
    "    ll = ll.sum(dim=(1, 2, 3))\n",
    "    return ll\n",
    "\n",
    "def ddim_step(x_t, t, labels, model):\n",
    "    model_kwargs = dict(c=labels)\n",
    "    sample_fn = model.net.forward\n",
    "    out = model.sample_diffusion.ddim_reverse_sample(\n",
    "        sample_fn,\n",
    "        x_t,\n",
    "        t,\n",
    "        clip_denoised=False,\n",
    "        model_kwargs=model_kwargs,\n",
    "        eta=0.0\n",
    "    )\n",
    "    return out[\"sample\"]\n",
    "\n",
    "def compute_logdet_jacob(x_t, t, labels, model, num_samples=1):\n",
    "    x_t = x_t.repeat(num_samples, 1, 1, 1)  # (N * num_samples, c, h, w)\n",
    "    t = t.repeat(num_samples)  # (N * num_samples, )\n",
    "    labels = labels.repeat(num_samples)  # (N * num_samples, )\n",
    "    x_t.requires_grad_(True)\n",
    "    model_kwargs = dict(c=labels)\n",
    "    sample_fn = model.net.forward\n",
    "    x_t_next = model.sample_diffusion.ddim_reverse_sample(\n",
    "        sample_fn,\n",
    "        x_t,\n",
    "        t,\n",
    "        clip_denoised=False,\n",
    "        model_kwargs=model_kwargs,\n",
    "        eta=0.0\n",
    "    )[\"sample\"]  # (N, c, h, w)\n",
    "    x_t_next_unrepeated = x_t_next.view(num_samples, -1, *x_t_next.shape[1:])[0]  # (num_samples, c, h, w)\n",
    "    \n",
    "    # Hutchinson's trace estimator\n",
    "    v = torch.randn_like(x_t)  # (N, c, h, w)\n",
    "    \n",
    "    z = torch.sum(x_t_next * v, dim=(1, 2, 3))  # (N * num_samples, )\n",
    "    grad_z = torch.autograd.grad(z, x_t, torch.ones_like(z), create_graph=True)[0]  # (N * num_samples, c, h, w)\n",
    "    trace_est_per_sample = torch.sum(grad_z * v, dim=(1, 2, 3))  # (N * num_samples, )\n",
    "    trace_est_per_sample = trace_est_per_sample.view(num_samples, -1).mean(dim=0)  # (N, )\n",
    "    trace_est = trace_est_per_sample\n",
    "    return trace_est.detach(), x_t_next_unrepeated.detach()"
   ]
  },
  {
   "cell_type": "code",
   "execution_count": 855,
   "metadata": {},
   "outputs": [],
   "source": [
    "num_total_steps = 2\n",
    "\n",
    "denoiser = init_denoiser(num_total_steps, device, config, mim_in_sh, ckpt_path)\n",
    "# batch = next(iter(train_loader))\n",
    "# batch = next(iter(normal_dataloader))\n",
    "batch = next(iter(anom_dataloader))\n",
    "images = batch[\"samples\"].to(device)\n",
    "labels = batch[\"clslabels\"].to(device)"
   ]
  },
  {
   "cell_type": "code",
   "execution_count": 856,
   "metadata": {},
   "outputs": [
    {
     "ename": "NameError",
     "evalue": "name 'image_to_x0' is not defined",
     "output_type": "error",
     "traceback": [
      "\u001b[0;31m---------------------------------------------------------------------------\u001b[0m",
      "\u001b[0;31mNameError\u001b[0m                                 Traceback (most recent call last)",
      "Cell \u001b[0;32mIn[856], line 3\u001b[0m\n\u001b[1;32m      1\u001b[0m start_t \u001b[38;5;241m=\u001b[39m torch\u001b[38;5;241m.\u001b[39mtensor([\u001b[38;5;241m0\u001b[39m] \u001b[38;5;241m*\u001b[39m bs, device\u001b[38;5;241m=\u001b[39mdevice, dtype\u001b[38;5;241m=\u001b[39mtorch\u001b[38;5;241m.\u001b[39mlong)\n\u001b[1;32m      2\u001b[0m curernt_t \u001b[38;5;241m=\u001b[39m start_t\n\u001b[0;32m----> 3\u001b[0m x_0 \u001b[38;5;241m=\u001b[39m \u001b[43mimage_to_x0\u001b[49m(images, feature_extractor, avg_glo, std_glo)\n\u001b[1;32m      4\u001b[0m trace_est, x_1 \u001b[38;5;241m=\u001b[39m compute_logdet_jacob(x_0, curernt_t, labels, denoiser, num_samples\u001b[38;5;241m=\u001b[39m\u001b[38;5;241m4\u001b[39m)\n\u001b[1;32m      6\u001b[0m trace_est\n",
      "\u001b[0;31mNameError\u001b[0m: name 'image_to_x0' is not defined"
     ]
    }
   ],
   "source": [
    "start_t = torch.tensor([0] * bs, device=device, dtype=torch.long)\n",
    "curernt_t = start_t\n",
    "x_0 = image_to_x0(images, feature_extractor, avg_glo, std_glo)\n",
    "trace_est, x_1 = compute_logdet_jacob(x_0, curernt_t, labels, denoiser, num_samples=4)\n",
    "\n",
    "trace_est"
   ]
  },
  {
   "cell_type": "code",
   "execution_count": null,
   "metadata": {},
   "outputs": [
    {
     "name": "stdout",
     "output_type": "stream",
     "text": [
      "Log-likelihood: [-644859.   -672057.7  -651717.6  -664090.75 -657208.3  -645376.6\n",
      " -657340.1  -658619.75]\n",
      "Log likelihood last: [-459843.1  -448832.66 -457716.88 -448302.7  -448900.22 -461626.28\n",
      " -448353.06 -446291.62]\n",
      "Trace sum: [185015.88 223225.02 194000.75 215788.1  208308.1  183750.31 208987.05\n",
      " 212328.11]\n"
     ]
    }
   ],
   "source": [
    "indices = list(range(0, int(denoiser.num_sampling_steps)))\n",
    "traces = []\n",
    "x_t = x_0\n",
    "for i in indices:\n",
    "    t = torch.tensor([i] * x_0.shape[0]).to(x_0.device)\n",
    "    trace_est, x_t = compute_logdet_jacob(x_t, t, labels, denoiser, num_samples=10)\n",
    "    traces.append(trace_est)\n",
    "\n",
    "trace_sum = torch.stack(traces, dim=0).sum(dim=0).cpu().numpy()  # (N, )\n",
    "log_ll_last = calculate_log_pdf(x_t.cpu()).numpy()  # (N, )\n",
    "log_ll = -1 * trace_sum + log_ll_last\n",
    "\n",
    "print(f\"Log-likelihood: {log_ll}\")\n",
    "print(f\"Log likelihood last: {log_ll_last}\")\n",
    "print(f\"Trace sum: {trace_sum}\")\n"
   ]
  },
  {
   "cell_type": "code",
   "execution_count": null,
   "metadata": {},
   "outputs": [
    {
     "name": "stderr",
     "output_type": "stream",
     "text": [
      "100%|██████████| 2/2 [00:01<00:00,  1.36it/s]\n",
      "100%|██████████| 4/4 [00:02<00:00,  1.84it/s]\n"
     ]
    }
   ],
   "source": [
    "normal_log_lls = []\n",
    "for batch in tqdm(normal_dataloader):\n",
    "    images = batch[\"samples\"].to(device)\n",
    "    labels = batch[\"clslabels\"].to(device)\n",
    "    \n",
    "    x_0 = image_to_x0(images, feature_extractor, avg_glo, std_glo)\n",
    "    indices = list(range(0, int(denoiser.num_sampling_steps)))\n",
    "    traces = []\n",
    "    x_t = x_0\n",
    "    for i in indices:\n",
    "        t = torch.tensor([i] * x_0.shape[0]).to(x_0.device)\n",
    "        trace_est, x_t = compute_logdet_jacob(x_t, t, labels, denoiser, num_samples=10)\n",
    "        traces.append(trace_est)\n",
    "\n",
    "    trace_sum = torch.stack(traces, dim=0).sum(dim=0).cpu().numpy()  # (N, )\n",
    "    log_ll_last = calculate_log_pdf(x_t.cpu()).numpy()  # (N, )\n",
    "    log_ll = -1 * trace_sum + log_ll_last\n",
    "    normal_log_lls.extend(log_ll)\n",
    "\n",
    "anom_log_lls = []\n",
    "for batch in tqdm(anom_dataloader):\n",
    "    images = batch[\"samples\"].to(device)\n",
    "    labels = batch[\"clslabels\"].to(device)\n",
    "    \n",
    "    x_0 = image_to_x0(images, feature_extractor, avg_glo, std_glo)\n",
    "    indices = list(range(0, int(denoiser.num_sampling_steps)))\n",
    "    traces = []\n",
    "    x_t = x_0\n",
    "    for i in indices:\n",
    "        t = torch.tensor([i] * x_0.shape[0]).to(x_0.device)\n",
    "        trace_est, x_t = compute_logdet_jacob(x_t, t, labels, denoiser, num_samples=10)\n",
    "        traces.append(trace_est)\n",
    "\n",
    "    trace_sum = torch.stack(traces, dim=0).sum(dim=0).cpu().numpy()  # (N, )\n",
    "    log_ll_last = calculate_log_pdf(x_t.cpu()).numpy()  # (N, )\n",
    "    log_ll = -1 * trace_sum + log_ll_last\n",
    "    anom_log_lls.extend(log_ll)"
   ]
  },
  {
   "cell_type": "code",
   "execution_count": null,
   "metadata": {},
   "outputs": [
    {
     "data": {
      "image/png": "[encoded data removed]",
      "text/plain": [
       "<Figure size 640x480 with 1 Axes>"
      ]
     },
     "metadata": {},
     "output_type": "display_data"
    }
   ],
   "source": [
    "# plot log-likelihoods\n",
    "plt.hist(normal_log_lls, bins=100, alpha=0.5, label=\"normal\")\n",
    "plt.hist(anom_log_lls, bins=100, alpha=0.5, label=\"anom\")\n",
    "plt.legend()\n",
    "plt.show()"
   ]
  },
  {
   "cell_type": "code",
   "execution_count": 689,
   "metadata": {},
   "outputs": [
    {
     "ename": "NameError",
     "evalue": "name 'normal_log_lls' is not defined",
     "output_type": "error",
     "traceback": [
      "\u001b[0;31m---------------------------------------------------------------------------\u001b[0m",
      "\u001b[0;31mNameError\u001b[0m                                 Traceback (most recent call last)",
      "Cell \u001b[0;32mIn[689], line 1\u001b[0m\n\u001b[0;32m----> 1\u001b[0m normal_log_lls \u001b[38;5;241m=\u001b[39m np\u001b[38;5;241m.\u001b[39marray(\u001b[43mnormal_log_lls\u001b[49m) \u001b[38;5;241m*\u001b[39m \u001b[38;5;241m-\u001b[39m\u001b[38;5;241m1\u001b[39m\n\u001b[1;32m      2\u001b[0m anom_log_lls \u001b[38;5;241m=\u001b[39m np\u001b[38;5;241m.\u001b[39marray(anom_log_lls) \u001b[38;5;241m*\u001b[39m \u001b[38;5;241m-\u001b[39m\u001b[38;5;241m1\u001b[39m\n\u001b[1;32m      4\u001b[0m y_true \u001b[38;5;241m=\u001b[39m np\u001b[38;5;241m.\u001b[39mconcatenate([np\u001b[38;5;241m.\u001b[39mzeros(\u001b[38;5;28mlen\u001b[39m(normal_log_lls)), np\u001b[38;5;241m.\u001b[39mones(\u001b[38;5;28mlen\u001b[39m(anom_log_lls))])\n",
      "\u001b[0;31mNameError\u001b[0m: name 'normal_log_lls' is not defined"
     ]
    }
   ],
   "source": [
    "normal_log_lls = np.array(normal_log_lls) * -1\n",
    "anom_log_lls = np.array(anom_log_lls) * -1\n",
    "\n",
    "y_true = np.concatenate([np.zeros(len(normal_log_lls)), np.ones(len(anom_log_lls))])\n",
    "y_score = np.concatenate([normal_log_lls, anom_log_lls])\n",
    "from sklearn.metrics import roc_curve, roc_auc_score\n",
    "fpr, tpr, _ = roc_curve(y_true, y_score)\n",
    "roc_auc = roc_auc_score(y_true, y_score)\n",
    "\n",
    "fig, ax = plt.subplots()\n",
    "ax.plot(fpr, tpr, label=f\"ROC curve (area = {roc_auc:.3f})\")\n",
    "ax.plot([0, 1], [0, 1], linestyle=\"--\")\n",
    "ax.set_xlabel(\"False Positive Rate\")\n",
    "ax.set_ylabel(\"True Positive Rate\")\n",
    "ax.legend()\n",
    "\n",
    "plt.show()"
   ]
  },
  {
   "cell_type": "code",
   "execution_count": null,
   "metadata": {},
   "outputs": [],
   "source": []
  }
 ],
 "metadata": {
  "kernelspec": {
   "display_name": "anomar",
   "language": "python",
   "name": "python3"
  },
  "language_info": {
   "codemirror_mode": {
    "name": "ipython",
    "version": 3
   },
   "file_extension": ".py",
   "mimetype": "text/x-python",
   "name": "python",
   "nbconvert_exporter": "python",
   "pygments_lexer": "ipython3",
   "version": "3.12.8"
  }
 },
 "nbformat": 4,
 "nbformat_minor": 2
}
