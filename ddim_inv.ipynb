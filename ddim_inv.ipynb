{
 "cells": [
  {
   "cell_type": "code",
   "execution_count": 2,
   "metadata": {},
   "outputs": [],
   "source": [
    "import os\n",
    "import sys\n",
    "sys.path.append('./src') \n",
    "os.environ['CUDA_VISIBLE_DEVICES'] = '0'\n",
    "import yaml\n",
    "\n",
    "from datasets import build_dataset, build_transforms\n",
    "from denoiser import get_denoiser\n",
    "from models import create_vae\n",
    "\n",
    "import matplotlib.pyplot as plt \n",
    "import numpy as np\n",
    "from tqdm import tqdm\n",
    "\n",
    "from backbones import get_backbone\n",
    "from denoiser import get_denoiser, Denoiser"
   ]
  },
  {
   "cell_type": "code",
   "execution_count": 798,
   "metadata": {},
   "outputs": [],
   "source": [
    "dataset = \"mvtec_ad\"\n",
    "category = \"zipper\"\n",
    "num_inference_steps = 5\n",
    "device = 'cuda'\n",
    "num_samples = 1\n",
    "start_step = 64"
   ]
  },
  {
   "cell_type": "code",
   "execution_count": 799,
   "metadata": {},
   "outputs": [
    {
     "name": "stdout",
     "output_type": "stream",
     "text": [
      "32\n",
      "119\n"
     ]
    }
   ],
   "source": [
    "from torch.utils.data import DataLoader\n",
    "import torch\n",
    "\n",
    "img_size = 256\n",
    "\n",
    "normal_dataset = build_dataset(\n",
    "    dataset_name=dataset,\n",
    "    data_root = f\"data/{dataset}\",\n",
    "    train=False,\n",
    "    img_size=img_size,\n",
    "    transform_type=\"default\",\n",
    "    category = category,\n",
    "    normal_only = True\n",
    ")\n",
    "anom_dataset = build_dataset(\n",
    "    dataset_name=dataset,\n",
    "    data_root = f\"data/{dataset}\",\n",
    "    train=False,\n",
    "    img_size=img_size,\n",
    "    transform_type=\"default\",\n",
    "    category = category,\n",
    "    anom_only = True\n",
    ")\n",
    "train_dataset = build_dataset(\n",
    "    dataset_name=dataset,\n",
    "    data_root = f\"data/{dataset}\",\n",
    "    train=True,\n",
    "    img_size=img_size,\n",
    "    transform_type=\"default\",\n",
    "    category = category,\n",
    ")\n",
    "print(len(normal_dataset))\n",
    "print(len(anom_dataset))"
   ]
  },
  {
   "cell_type": "code",
   "execution_count": 800,
   "metadata": {},
   "outputs": [
    {
     "name": "stdout",
     "output_type": "stream",
     "text": [
      "<All keys matched successfully>\n"
     ]
    },
    {
     "data": {
      "text/plain": [
       "Denoiser(\n",
       "  (cls_embed): Embedding(15, 256)\n",
       "  (net): DiT(\n",
       "    (x_embedder): PatchEmbed(\n",
       "      (proj): Conv2d(272, 256, kernel_size=(1, 1), stride=(1, 1))\n",
       "      (norm): Identity()\n",
       "    )\n",
       "    (x_embedder_linear): Linear(in_features=272, out_features=256, bias=True)\n",
       "    (z_embedder): ConditionEmbedder(\n",
       "      (mlp): Sequential(\n",
       "        (0): Linear(in_features=16, out_features=256, bias=True)\n",
       "        (1): SiLU()\n",
       "        (2): Linear(in_features=256, out_features=256, bias=True)\n",
       "      )\n",
       "    )\n",
       "    (t_embedder): TimestepEmbedder(\n",
       "      (mlp): Sequential(\n",
       "        (0): Linear(in_features=256, out_features=256, bias=True)\n",
       "        (1): SiLU()\n",
       "        (2): Linear(in_features=256, out_features=256, bias=True)\n",
       "      )\n",
       "    )\n",
       "    (y_embedder): LabelEmbedder(\n",
       "      (embedding_table): Embedding(15, 256)\n",
       "    )\n",
       "    (blocks): ModuleList(\n",
       "      (0-3): 4 x DiTBlock(\n",
       "        (norm1): LayerNorm((256,), eps=1e-06, elementwise_affine=False)\n",
       "        (attn): Attention(\n",
       "          (qkv): Linear(in_features=256, out_features=768, bias=True)\n",
       "          (q_norm): Identity()\n",
       "          (k_norm): Identity()\n",
       "          (attn_drop): Dropout(p=0.0, inplace=False)\n",
       "          (proj): Linear(in_features=256, out_features=256, bias=True)\n",
       "          (proj_drop): Dropout(p=0.0, inplace=False)\n",
       "        )\n",
       "        (norm2): LayerNorm((256,), eps=1e-06, elementwise_affine=False)\n",
       "        (mlp): Mlp(\n",
       "          (fc1): Linear(in_features=256, out_features=1024, bias=True)\n",
       "          (act): GELU(approximate='tanh')\n",
       "          (drop1): Dropout(p=0.0, inplace=False)\n",
       "          (norm): Identity()\n",
       "          (fc2): Linear(in_features=1024, out_features=256, bias=True)\n",
       "          (drop2): Dropout(p=0.0, inplace=False)\n",
       "        )\n",
       "        (adaLN_modulation): Sequential(\n",
       "          (0): SiLU()\n",
       "          (1): Linear(in_features=256, out_features=1536, bias=True)\n",
       "        )\n",
       "      )\n",
       "    )\n",
       "    (final_layer): FinalLayer(\n",
       "      (norm_final): LayerNorm((256,), eps=1e-06, elementwise_affine=False)\n",
       "      (linear): Linear(in_features=256, out_features=272, bias=True)\n",
       "      (adaLN_modulation): Sequential(\n",
       "        (0): SiLU()\n",
       "        (1): Linear(in_features=256, out_features=512, bias=True)\n",
       "      )\n",
       "    )\n",
       "  )\n",
       ")"
      ]
     },
     "execution_count": 800,
     "metadata": {},
     "output_type": "execute_result"
    }
   ],
   "source": [
    "# log_dir = f\"./results/ad_unet_vae_ddad/{category}\"\n",
    "# log_dir = f\"./results/exp_unet_feature_visa/{category}\"\n",
    "# log_dir = f\"./results/exp_unet_feature_ad_256/{category}\"\n",
    "# log_dir = f\"./results/exp_unet_feature_ad_wrn/{category}\"\n",
    "\n",
    "# log_dir = f\"./results/w2d256ep1000\"\n",
    "log_dir = f\"./results/exp_dit_feature_d4w256_lr/{category}\"\n",
    "config_path = os.path.join(log_dir, \"config.yaml\")\n",
    "ckpt_path = os.path.join(log_dir, \"model_latest.pth\")\n",
    "\n",
    "with open(config_path, 'r') as stream:\n",
    "    try:\n",
    "        config = yaml.safe_load(stream)\n",
    "    except yaml.YAMLError as exc:\n",
    "        print(exc)\n",
    "\n",
    "seed = config['meta']['seed']\n",
    "torch.manual_seed(seed)\n",
    "torch.cuda.manual_seed(seed)\n",
    "np.random.seed(seed) \n",
    "\n",
    "config[\"diffusion\"][\"num_sampling_steps\"] = str(num_inference_steps)\n",
    "img_size = config['data']['img_size']\n",
    "device = device\n",
    "num_samples = num_samples\n",
    "\n",
    "mim_in_sh = (272, 16, 16) # for enet\n",
    "# mim_in_sh = (1792, 16, 16)  # for wrn\n",
    "\n",
    "img_size = config['data']['img_size']\n",
    "model: Denoiser = get_denoiser(**config['diffusion'], input_shape=mim_in_sh)\n",
    "model_ckpt = torch.load(ckpt_path, map_location='cpu', weights_only=True)\n",
    "results = model.load_state_dict(model_ckpt, strict=False)\n",
    "print(results)\n",
    "model.to(device).eval()"
   ]
  },
  {
   "cell_type": "code",
   "execution_count": 801,
   "metadata": {},
   "outputs": [],
   "source": [
    "# model_kwargs = {\n",
    "#     'model_type': 'efficientnet-b4',\n",
    "#     'outblocks': (1, 5, 9, 21),\n",
    "#     'outstrides': (2, 4, 8, 16),\n",
    "#     'pretrained': True,\n",
    "#     'stride': 16\n",
    "# }\n",
    "# # model_kwargs = {\n",
    "# #     'model_type': 'wide_resnet50_2',\n",
    "# # }\n",
    "# print(f\"Using feature space reconstruction with {model_kwargs['model_type']} backbone\")\n",
    "# feature_extractor = get_backbone(**model_kwargs)\n",
    "# feature_extractor.to(device).eval()"
   ]
  },
  {
   "cell_type": "code",
   "execution_count": 802,
   "metadata": {},
   "outputs": [],
   "source": [
    "bs = 8\n",
    "train_loader = DataLoader(train_dataset, batch_size=bs, shuffle=True, num_workers=4, drop_last=False)\n",
    "normal_dataloader = DataLoader(normal_dataset, batch_size=bs, shuffle=False, num_workers=4, drop_last=False)\n",
    "anom_dataloader = DataLoader(anom_dataset, batch_size=bs, shuffle=False, num_workers=4, drop_last=False)\n",
    "\n",
    "start_t = torch.tensor([0] * bs, device=device, dtype=torch.long)\n",
    "end_t = torch.tensor([num_inference_steps] * bs, device=device, dtype=torch.long)"
   ]
  },
  {
   "cell_type": "code",
   "execution_count": 803,
   "metadata": {},
   "outputs": [
    {
     "name": "stderr",
     "output_type": "stream",
     "text": [
      "100%|██████████| 30/30 [00:01<00:00, 21.61it/s]\n"
     ]
    }
   ],
   "source": [
    "# Compute global stats for training data\n",
    "features = []\n",
    "for i, data in tqdm(enumerate(train_loader), total=len(train_loader)):\n",
    "    img = data[\"samples\"].to(device)\n",
    "    with torch.no_grad():\n",
    "        x, _ = feature_extractor(img)\n",
    "        features.append(x)\n",
    "features = torch.cat(features, dim=0)   # (N, c, h, w)\n",
    "avg_glo = features.mean(dim=(0, 2, 3))  # (c, )\n",
    "std_glo = features.std(dim=(0, 2, 3))  # (c, )"
   ]
  },
  {
   "cell_type": "code",
   "execution_count": 804,
   "metadata": {},
   "outputs": [
    {
     "name": "stderr",
     "output_type": "stream",
     "text": [
      "100%|██████████| 4/4 [00:01<00:00,  3.94it/s]"
     ]
    },
    {
     "name": "stdout",
     "output_type": "stream",
     "text": [
      "Average Latency: 0.04277151823043823[s] for batch size 8\n"
     ]
    },
    {
     "name": "stderr",
     "output_type": "stream",
     "text": [
      "\n"
     ]
    }
   ],
   "source": [
    "def calculate_log_pdf(x):\n",
    "    ll = -0.5 * (x ** 2 + np.log(2 * np.pi))\n",
    "    ll = ll.sum(dim=(1, 2, 3))\n",
    "    return ll\n",
    "\n",
    "import time\n",
    "\n",
    "normal_lls = []\n",
    "lts = []\n",
    "for batch in tqdm(normal_dataloader):\n",
    "    images = batch[\"samples\"].to(device)\n",
    "    labels = batch[\"clslabels\"].to(device)\n",
    "    \n",
    "    s_t = time.time()\n",
    "    with torch.no_grad():\n",
    "        latents_org, _ = feature_extractor(images)\n",
    "        latents_org = (latents_org - avg_glo.view(1, -1, 1, 1)) / (std_glo.view(1, -1, 1, 1) + 1e-6)\n",
    "        latents_last = model.ddim_reverse_sample(\n",
    "            latents_org, start_t, labels, eta=0.0\n",
    "        )\n",
    "        # latents_last = latents_org\n",
    "    e_t = time.time()\n",
    "    lts.append(e_t - s_t)\n",
    "    ll = calculate_log_pdf(latents_last.cpu())\n",
    "    normal_lls.extend(ll)\n",
    "\n",
    "print(f\"Average Latency: {np.mean(lts)}[s] for batch size {bs}\")"
   ]
  },
  {
   "cell_type": "code",
   "execution_count": 805,
   "metadata": {},
   "outputs": [
    {
     "name": "stderr",
     "output_type": "stream",
     "text": [
      "100%|██████████| 15/15 [00:01<00:00,  8.13it/s]\n"
     ]
    }
   ],
   "source": [
    "anom_lls = []\n",
    "for batch in tqdm(anom_dataloader):\n",
    "    images = batch[\"samples\"].to(device)\n",
    "    labels = batch[\"clslabels\"].to(device)\n",
    "    \n",
    "    with torch.no_grad():\n",
    "        latents_org, _ = feature_extractor(images)\n",
    "        latents_org = (latents_org - avg_glo.view(1, -1, 1, 1)) / (std_glo.view(1, -1, 1, 1) + 1e-6)\n",
    "        latents_last = model.ddim_reverse_sample(\n",
    "            latents_org, start_t, labels, eta=0.0\n",
    "        )\n",
    "        # latents_last = latents_org\n",
    "    \n",
    "    ll = calculate_log_pdf(latents_last.cpu())\n",
    "    anom_lls.extend(ll)"
   ]
  },
  {
   "cell_type": "code",
   "execution_count": 806,
   "metadata": {},
   "outputs": [
    {
     "data": {
      "image/png": "[encoded data removed]",
      "text/plain": [
       "<Figure size 640x480 with 1 Axes>"
      ]
     },
     "metadata": {},
     "output_type": "display_data"
    }
   ],
   "source": [
    "plt.hist(normal_lls, bins=100, alpha=0.5, label=\"normal\")\n",
    "plt.hist(anom_lls, bins=100, alpha=0.5, label=\"anom\")\n",
    "plt.legend()\n",
    "plt.show()"
   ]
  },
  {
   "cell_type": "code",
   "execution_count": 807,
   "metadata": {},
   "outputs": [],
   "source": [
    "from sklearn.metrics import roc_curve, roc_auc_score\n",
    "normal_lls = np.array(normal_lls) * -1\n",
    "anom_lls = np.array(anom_lls) * -1\n",
    "y_true = np.concatenate([np.zeros(len(normal_lls)), np.ones(len(anom_lls))])\n",
    "y_score = np.concatenate([normal_lls, anom_lls])\n",
    "fpr, tpr, _ = roc_curve(y_true, y_score)\n",
    "roc_auc = roc_auc_score(y_true, y_score)"
   ]
  },
  {
   "cell_type": "code",
   "execution_count": null,
   "metadata": {},
   "outputs": [
    {
     "data": {
      "image/png": "[encoded data removed]",
      "text/plain": [
       "<Figure size 640x480 with 1 Axes>"
      ]
     },
     "metadata": {},
     "output_type": "display_data"
    },
    {
     "ename": "",
     "evalue": "",
     "output_type": "error",
     "traceback": [
      "\u001b[1;31mThe Kernel crashed while executing code in the current cell or a previous cell. \n",
      "\u001b[1;31mPlease review the code in the cell(s) to identify a possible cause of the failure. \n",
      "\u001b[1;31mClick <a href='https://aka.ms/vscodeJupyterKernelCrash'>here</a> for more info. \n",
      "\u001b[1;31mView Jupyter <a href='command:jupyter.viewOutput'>log</a> for further details."
     ]
    }
   ],
   "source": [
    "fig, ax = plt.subplots()\n",
    "ax.plot(fpr, tpr, label=f\"ROC curve (area = {roc_auc:.3f})\")\n",
    "ax.plot([0, 1], [0, 1], linestyle=\"--\")\n",
    "ax.set_xlabel(\"False Positive Rate\")\n",
    "ax.set_ylabel(\"True Positive Rate\")\n",
    "ax.legend()\n",
    "plt.show()"
   ]
  },
  {
   "cell_type": "code",
   "execution_count": null,
   "metadata": {},
   "outputs": [],
   "source": []
  },
  {
   "cell_type": "code",
   "execution_count": null,
   "metadata": {},
   "outputs": [],
   "source": []
  },
  {
   "cell_type": "code",
   "execution_count": null,
   "metadata": {},
   "outputs": [],
   "source": []
  }
 ],
 "metadata": {
  "kernelspec": {
   "display_name": "anomar",
   "language": "python",
   "name": "python3"
  },
  "language_info": {
   "codemirror_mode": {
    "name": "ipython",
    "version": 3
   },
   "file_extension": ".py",
   "mimetype": "text/x-python",
   "name": "python",
   "nbconvert_exporter": "python",
   "pygments_lexer": "ipython3",
   "version": "3.12.8"
  }
 },
 "nbformat": 4,
 "nbformat_minor": 2
}
