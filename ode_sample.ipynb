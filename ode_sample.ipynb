{
 "cells": [
  {
   "cell_type": "code",
   "execution_count": 4,
   "metadata": {},
   "outputs": [
    {
     "data": {
      "image/png": "[encoded data removed]",
      "text/plain": [
       "<Figure size 640x480 with 1 Axes>"
      ]
     },
     "metadata": {},
     "output_type": "display_data"
    }
   ],
   "source": [
    "import torch\n",
    "from torchdiffeq import odeint\n",
    "import matplotlib.pyplot as plt\n",
    "\n",
    "# 定義: ODEの右辺 dy/dt = -2y\n",
    "def func(t, y):\n",
    "    return -2 * y\n",
    "\n",
    "# 初期値 y(0) = 5\n",
    "y0 = torch.tensor([5.0])\n",
    "\n",
    "# 時刻のリスト: 0 から 5 の範囲で 100 個の点\n",
    "t = torch.linspace(0, 5, 10)\n",
    "\n",
    "# 数値解\n",
    "solution = odeint(func, y0, t)\n",
    "\n",
    "# 可視化\n",
    "plt.plot(t.numpy(), solution.numpy(), label=\"Numerical Solution\")\n",
    "plt.xlabel(\"Time t\")\n",
    "plt.ylabel(\"y(t)\")\n",
    "plt.title(\"Solution of dy/dt = -2y with y(0) = 5\")\n",
    "plt.legend()\n",
    "plt.show()"
   ]
  },
  {
   "cell_type": "code",
   "execution_count": 5,
   "metadata": {},
   "outputs": [],
   "source": [
    "import torch\n",
    "import torch.nn as nn"
   ]
  },
  {
   "cell_type": "code",
   "execution_count": 6,
   "metadata": {},
   "outputs": [],
   "source": [
    "def sigma(t):\n",
    "    # 例えばシンプルに sigma(t) = t としてみる (実際の問題に合わせて定義)\n",
    "    return t\n",
    "\n",
    "def dsigma_dt(t):\n",
    "    # sigma(t) = t のときは d sigma(t)/dt = 1\n",
    "    return 1.0\n",
    "\n",
    "class EpsTheta(nn.Module):\n",
    "    def __init__(self):\n",
    "        super().__init__()\n",
    "        # 必要に応じてパラメータなどを定義\n",
    "    def forward(self, x):\n",
    "        # ここでは単純に入力をそのまま返す\n",
    "        return x\n",
    "    \n",
    "class ODEFunc(nn.Module):\n",
    "    def __init__(self, eps_theta):\n",
    "        super().__init__()\n",
    "        self.eps_theta = eps_theta\n",
    "\n",
    "    def forward(self, t, x):\n",
    "        # x の形状: (batch_size, ...) であってもOK\n",
    "        s = sigma(t)                         # sigma(t)\n",
    "        ds = dsigma_dt(t)                    # d sigma(t)/dt\n",
    "        # dx/dt = eps_theta(x / sqrt(1 + s^2)) * ds\n",
    "        return self.eps_theta(x / torch.sqrt(1.0 + s*s)) * ds\n"
   ]
  },
  {
   "cell_type": "code",
   "execution_count": 7,
   "metadata": {},
   "outputs": [
    {
     "data": {
      "text/plain": [
       "tensor([1.2071])"
      ]
     },
     "execution_count": 7,
     "metadata": {},
     "output_type": "execute_result"
    }
   ],
   "source": [
    "def solve_ode(x0, eps_theta, t_span=[0., 1.]):\n",
    "    \"\"\"\n",
    "    x0: 初期値 (torch.Tensor)\n",
    "    eps_theta: 上で定義した EpsTheta のインスタンスなど\n",
    "    t_span: [t0, t1]\n",
    "    \"\"\"\n",
    "    # 時間点を定義 (ここでは t=0 と t=1 のみ)\n",
    "    t_eval = torch.tensor(t_span, dtype=torch.float32)\n",
    "\n",
    "    # ODEFunc のインスタンスを生成\n",
    "    ode_func = ODEFunc(eps_theta)\n",
    "\n",
    "    # odeint により数値解を求める\n",
    "    # 解のテンソル shape: (len(t_eval), *x0.shape)\n",
    "    sol = odeint(ode_func, x0, t_eval, method='dopri5')\n",
    "    \n",
    "    # sol[0] は t=0 の解 (初期値と同じ)\n",
    "    # sol[-1] が t=1 での解\n",
    "    return sol[-1]\n",
    "\n",
    "x0 = torch.tensor([0.5])\n",
    "eps = EpsTheta()\n",
    "x_t1 = solve_ode(x0, eps)\n",
    "x_t1"
   ]
  },
  {
   "cell_type": "code",
   "execution_count": null,
   "metadata": {},
   "outputs": [],
   "source": []
  }
 ],
 "metadata": {
  "kernelspec": {
   "display_name": "anomar",
   "language": "python",
   "name": "python3"
  },
  "language_info": {
   "codemirror_mode": {
    "name": "ipython",
    "version": 3
   },
   "file_extension": ".py",
   "mimetype": "text/x-python",
   "name": "python",
   "nbconvert_exporter": "python",
   "pygments_lexer": "ipython3",
   "version": "3.12.8"
  }
 },
 "nbformat": 4,
 "nbformat_minor": 2
}
